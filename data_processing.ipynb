{
 "cells": [
  {
   "cell_type": "code",
   "execution_count": 24,
   "id": "metric-modification",
   "metadata": {},
   "outputs": [],
   "source": [
    "import torch\n",
    "import pandas as pd\n",
    "from network.network import PatientClassificationNet, PatientGroupNet\n",
    "import numpy as np\n",
    "from datetime import datetime, timedelta\n",
    "import matplotlib.pyplot as plt\n",
    "%load_ext autoreload\n",
    "%autoreload 2"
   ]
  },
  {
   "cell_type": "code",
   "execution_count": 2,
   "id": "subsequent-curtis",
   "metadata": {},
   "outputs": [],
   "source": [
    "num_class = 3\n",
    "num_full = 36"
   ]
  },
  {
   "cell_type": "code",
   "execution_count": 3,
   "id": "heard-paris",
   "metadata": {},
   "outputs": [],
   "source": [
    "class_boundary = torch.Tensor([0.0307, 0.0739, 0.5403])\n",
    "temp = PatientClassificationNet(21, 256)\n",
    "net = PatientGroupNet(temp, class_boundary)"
   ]
  },
  {
   "cell_type": "code",
   "execution_count": 4,
   "id": "first-circle",
   "metadata": {},
   "outputs": [
    {
     "data": {
      "text/plain": [
       "<All keys matched successfully>"
      ]
     },
     "execution_count": 4,
     "metadata": {},
     "output_type": "execute_result"
    }
   ],
   "source": [
    "PATH = './model/patient_group_net.pth'\n",
    "net.load_state_dict(torch.load(PATH))"
   ]
  },
  {
   "cell_type": "code",
   "execution_count": 5,
   "id": "neutral-marker",
   "metadata": {},
   "outputs": [],
   "source": [
    "df = pd.read_excel(r'data.xlsx')\n",
    "df = df[~df['Fallnummer'].isnull()]\n",
    "\n",
    "X = df.loc[:, ['AGE', 'Admission type 2', 'No. of times sent to ICU', 'FA ab para']]\n",
    "X['FA ab para'] = X['FA ab para'].replace([1, 5, 10, 14, 16, 21, 22], X['FA ab para'].max() + 1)\n",
    "X = torch.Tensor(X.to_numpy())\n",
    "fa_val = X[:, 3].unique()\n",
    "tmp = X[:, 3].unsqueeze(1).expand((-1, len(fa_val))) == fa_val\n",
    "X = torch.cat((X[:, :3], tmp.float()), dim=1)\n",
    "X[:, 2] = (X[:, 2] > 1)\n",
    "X = (X - X.mean(0)) / X.std(0)\n",
    "\n",
    "Y = df.loc[:, ['Tod']]\n",
    "Y = torch.Tensor(Y.to_numpy())"
   ]
  },
  {
   "cell_type": "code",
   "execution_count": 12,
   "id": "necessary-filter",
   "metadata": {},
   "outputs": [],
   "source": [
    "prediction = net(X).numpy()\n",
    "df['class'] = prediction\n",
    "los_mean = [df[df['class']==i]['LOS (Days)'].mean() for i in range(1,num_class+1)]\n",
    "los_mean\n",
    "num_timeslot = len(num_patients_list)"
   ]
  },
  {
   "cell_type": "code",
   "execution_count": 7,
   "id": "raising-participant",
   "metadata": {},
   "outputs": [],
   "source": [
    "t = datetime(2015,1,1)\n",
    "# t_end = datetime(2015, 1, 8)\n",
    "t_end = datetime(2016,1,1)\n",
    "t_delta = timedelta(minutes=10)\n",
    "col_transfer_into_icu = df['Transfer into ICU']\n",
    "col_leave_icu = df['Leave ICU']\n",
    "index_list_transfer = []\n",
    "index_list_leave = []\n",
    "num_patients = 0\n",
    "num_patients_list = []\n",
    "while t < t_end:\n",
    "    indices_transfer = df.loc[(col_transfer_into_icu >= t) & (col_transfer_into_icu < t+t_delta)].index\n",
    "    index_list_transfer.append(indices_transfer)\n",
    "    indices_leave = df.loc[(col_leave_icu >= t) & (col_leave_icu < t+t_delta)].index\n",
    "    index_list_leave.append(indices_leave)\n",
    "    num_patients += len(indices_transfer) - len(indices_leave)\n",
    "    num_patients_list.append(num_patients)\n",
    "    t = t + t_delta"
   ]
  },
  {
   "cell_type": "code",
   "execution_count": 8,
   "id": "exterior-elite",
   "metadata": {},
   "outputs": [],
   "source": [
    "num_patients=0\n",
    "num_demand_discharge = np.zeros(num_class)\n",
    "tensor_discharge = torch.zeros(len(X))\n",
    "tensor_num_patients = torch.zeros(len(X))\n",
    "\n",
    "for i in range(len(index_list_leave)):\n",
    "    num_patients = num_patients_list[i-1] if i>0 else 0\n",
    "    num_leave = len(index_list_leave[i])\n",
    "    num_transfer = len(index_list_transfer[i])\n",
    "    \n",
    "    if num_leave > 0 and num_patients + num_transfer > num_full:\n",
    "        pred = net(X[index_list_leave[i]])\n",
    "        num_demand_discharge += [torch.sum(pred==i).item() for i in range(1,num_class+1)]\n",
    "        tensor_discharge[index_list_leave[i]] = 1\n",
    "    tensor_num_patients[index_list_leave[i]] = num_patients + num_transfer\n",
    "        \n",
    "\n",
    "df['Demand discharge'] = tensor_discharge.numpy()\n",
    "df['Num patients'] = tensor_num_patients.numpy()"
   ]
  },
  {
   "cell_type": "code",
   "execution_count": 9,
   "id": "ranking-appearance",
   "metadata": {},
   "outputs": [],
   "source": [
    "df_readmit = df[df['No. of times sent to ICU'] > 1]\n",
    "readmit_id = df_readmit['Fallnummer'].unique()\n",
    "\n",
    "# Find readmit patients who demand discharged at first entrance to ICU\n",
    "df['Demand discharge first'] = df['Demand discharge'].copy()\n",
    "df['LOS first'] = df['LOS (Days)'].copy()\n",
    "readmit_discharge_first_id = df[df['Fallnummer'].isin(readmit_id) & (df['No. of times sent to ICU'] == 1) & (df['Demand discharge']==1)]['Fallnummer'].unique()\n",
    "df.loc[df[df['Fallnummer'].isin(readmit_discharge_first_id)].index, 'Demand discharge first'] = 1\n",
    "\n",
    "# Update LOS first admission to ICU\n",
    "tmp = df[df['Fallnummer'].isin(readmit_id) & (df['No. of times sent to ICU'] == 1)][['Fallnummer', 'LOS first']]\n",
    "df.set_index('Fallnummer', inplace=True)\n",
    "df.update(tmp.set_index('Fallnummer'))\n",
    "df = df.reset_index()"
   ]
  },
  {
   "cell_type": "code",
   "execution_count": 22,
   "id": "sticky-graduate",
   "metadata": {},
   "outputs": [
    {
     "name": "stdout",
     "output_type": "stream",
     "text": [
      "[0.012557077625570776, 0.027216856892010536, 0.13576779026217228]\n",
      "[0.020518358531317494, 0.04817275747508306, 0.2980225988700565]\n",
      "[0.4379804236002934, 0.21230084086524306, 0.2308742281443453]\n",
      "[0.18798955613585186, 0.25997993981984696, 0.21490256423879353]\n",
      "[0.8988013698630137, 0.03428462709284627, 0.033124048706240486, 0.033789954337899546]\n",
      "[0.08047585987623804, 0.057094655130521615, 0.7987205662123528]\n"
     ]
    }
   ],
   "source": [
    "condition_low = df['Demand discharge first'] == 0\n",
    "condition_class = lambda x: df['class'] == x\n",
    "condition_alive = ~(df['Dispatch to'] == 'Tod')\n",
    "condition_readmit = df['No. of times sent to ICU'] > 1\n",
    "condition_low_now = df['Demand discharge'] == 0\n",
    "\n",
    "mu_r_low = []\n",
    "p_r_low = []\n",
    "mu_r_full = []\n",
    "p_r_full = []\n",
    "p_arrive = []\n",
    "for i in range(1, num_class+1):\n",
    "#     df_cond = df[condition_low & condition_class(i) & condition_alive]\n",
    "#     mu_low.append(df_cond['LOS first'].sum() / len(df_cond))\n",
    "    \n",
    "    df_cond = df[condition_low & condition_class(i)]\n",
    "    df_cond2 = df[condition_readmit & condition_low & condition_class(i)]\n",
    "    p_r_low.append(len(df_cond2.index) / len(df_cond.index))\n",
    "    \n",
    "    df_cond = df[~condition_low & condition_class(i)]\n",
    "    df_cond2 = df[condition_readmit & ~condition_low & condition_class(i)]\n",
    "    p_r_full.append(len(df_cond2.index) / len(df_cond.index))\n",
    "    \n",
    "    df_cond = df[condition_low & condition_readmit & condition_class(i) & condition_low_now & condition_alive]\n",
    "    mu_r_low.append(1 / (df_cond['LOS (Days)'].sum() / len(df_cond.index)))\n",
    "    \n",
    "    df_cond = df[~condition_low & condition_readmit & condition_class(i) & condition_low_now & condition_alive]\n",
    "    mu_r_full.append(1 / (df_cond['LOS (Days)'].sum() / len(df_cond.index)))\n",
    "    \n",
    "    df_cond = df[condition_class(i)]\n",
    "    p_arrive.append(len(df_cond) / num_timeslot)\n",
    "\n",
    "p_arrive = [1 - np.sum(p_arrive)] + p_arrive\n",
    "delta_readmission_load = [p_r_full[i] / mu_r_full[i] - p_r_low[i] / mu_r_low[i] for i in range(len(mu_r_full))]\n",
    "print(p_r_low)\n",
    "print(p_r_full)\n",
    "print(mu_r_low)\n",
    "print(mu_r_full)\n",
    "print(p_arrive)\n",
    "print(delta_readmission_load)\n"
   ]
  },
  {
   "cell_type": "code",
   "execution_count": 26,
   "id": "earned-aruba",
   "metadata": {},
   "outputs": [
    {
     "ename": "NameError",
     "evalue": "name 'net' is not defined",
     "output_type": "error",
     "traceback": [
      "\u001b[1;31m---------------------------------------------------------------------------\u001b[0m",
      "\u001b[1;31mNameError\u001b[0m                                 Traceback (most recent call last)",
      "\u001b[1;32m<ipython-input-26-b52edad80774>\u001b[0m in \u001b[0;36m<module>\u001b[1;34m\u001b[0m\n\u001b[0;32m      2\u001b[0m \u001b[1;33m\u001b[0m\u001b[0m\n\u001b[0;32m      3\u001b[0m \u001b[0mdp\u001b[0m \u001b[1;33m=\u001b[0m \u001b[0mDataProcess\u001b[0m\u001b[1;33m(\u001b[0m\u001b[0mnet\u001b[0m\u001b[1;33m,\u001b[0m \u001b[1;36m3\u001b[0m\u001b[1;33m)\u001b[0m\u001b[1;33m\u001b[0m\u001b[1;33m\u001b[0m\u001b[0m\n\u001b[1;32m----> 4\u001b[1;33m \u001b[0mresult\u001b[0m \u001b[1;33m=\u001b[0m \u001b[0mdp\u001b[0m\u001b[1;33m.\u001b[0m\u001b[0mprocess\u001b[0m\u001b[1;33m(\u001b[0m\u001b[1;33m)\u001b[0m\u001b[1;33m\u001b[0m\u001b[1;33m\u001b[0m\u001b[0m\n\u001b[0m",
      "\u001b[1;32mD:\\working\\I2RL\\DataProcess.py\u001b[0m in \u001b[0;36mprocess\u001b[1;34m(self)\u001b[0m\n\u001b[0;32m     51\u001b[0m             \u001b[0mt\u001b[0m \u001b[1;33m=\u001b[0m \u001b[0mt\u001b[0m \u001b[1;33m+\u001b[0m \u001b[0mt_delta\u001b[0m\u001b[1;33m\u001b[0m\u001b[1;33m\u001b[0m\u001b[0m\n\u001b[0;32m     52\u001b[0m \u001b[1;33m\u001b[0m\u001b[0m\n\u001b[1;32m---> 53\u001b[1;33m         \u001b[0mprediction\u001b[0m \u001b[1;33m=\u001b[0m \u001b[0mself\u001b[0m\u001b[1;33m.\u001b[0m\u001b[0mnet\u001b[0m\u001b[1;33m(\u001b[0m\u001b[0mX\u001b[0m\u001b[1;33m)\u001b[0m\u001b[1;33m.\u001b[0m\u001b[0mnumpy\u001b[0m\u001b[1;33m(\u001b[0m\u001b[1;33m)\u001b[0m\u001b[1;33m\u001b[0m\u001b[1;33m\u001b[0m\u001b[0m\n\u001b[0m\u001b[0;32m     54\u001b[0m         \u001b[0mdf\u001b[0m\u001b[1;33m[\u001b[0m\u001b[1;34m'class'\u001b[0m\u001b[1;33m]\u001b[0m \u001b[1;33m=\u001b[0m \u001b[0mprediction\u001b[0m\u001b[1;33m\u001b[0m\u001b[1;33m\u001b[0m\u001b[0m\n\u001b[0;32m     55\u001b[0m         \u001b[0mnum_timeslot\u001b[0m \u001b[1;33m=\u001b[0m \u001b[0mlen\u001b[0m\u001b[1;33m(\u001b[0m\u001b[0mnum_patients_list\u001b[0m\u001b[1;33m)\u001b[0m\u001b[1;33m\u001b[0m\u001b[1;33m\u001b[0m\u001b[0m\n",
      "\u001b[1;31mNameError\u001b[0m: name 'net' is not defined"
     ]
    }
   ],
   "source": [
    "from DataProcess import DataProcess\n",
    "\n",
    "dp = DataProcess(net, 3)\n",
    "result = dp.process()"
   ]
  },
  {
   "cell_type": "code",
   "execution_count": 11,
   "id": "flexible-arbitration",
   "metadata": {},
   "outputs": [
    {
     "ename": "ValueError",
     "evalue": "x and y must have same first dimension, but have shapes (3624,) and (52560,)",
     "output_type": "error",
     "traceback": [
      "\u001b[1;31m---------------------------------------------------------------------------\u001b[0m",
      "\u001b[1;31mValueError\u001b[0m                                Traceback (most recent call last)",
      "\u001b[1;32m<ipython-input-11-eb529056ad64>\u001b[0m in \u001b[0;36m<module>\u001b[1;34m\u001b[0m\n\u001b[0;32m      1\u001b[0m \u001b[0mplt\u001b[0m\u001b[1;33m.\u001b[0m\u001b[0mfigure\u001b[0m\u001b[1;33m(\u001b[0m\u001b[0mfigsize\u001b[0m\u001b[1;33m=\u001b[0m\u001b[1;33m(\u001b[0m\u001b[1;36m20\u001b[0m\u001b[1;33m,\u001b[0m\u001b[1;36m10\u001b[0m\u001b[1;33m)\u001b[0m\u001b[1;33m)\u001b[0m\u001b[1;33m\u001b[0m\u001b[1;33m\u001b[0m\u001b[0m\n\u001b[1;32m----> 2\u001b[1;33m \u001b[0mplt\u001b[0m\u001b[1;33m.\u001b[0m\u001b[0mplot\u001b[0m\u001b[1;33m(\u001b[0m\u001b[0mnp\u001b[0m\u001b[1;33m.\u001b[0m\u001b[0marange\u001b[0m\u001b[1;33m(\u001b[0m\u001b[1;36m151\u001b[0m\u001b[1;33m*\u001b[0m\u001b[1;36m24\u001b[0m\u001b[1;33m)\u001b[0m\u001b[1;33m,\u001b[0m \u001b[0mnum_patients_list\u001b[0m\u001b[1;33m)\u001b[0m\u001b[1;33m\u001b[0m\u001b[1;33m\u001b[0m\u001b[0m\n\u001b[0m",
      "\u001b[1;32m~\\Anaconda3\\envs\\i2rl\\lib\\site-packages\\matplotlib\\pyplot.py\u001b[0m in \u001b[0;36mplot\u001b[1;34m(scalex, scaley, data, *args, **kwargs)\u001b[0m\n\u001b[0;32m   2838\u001b[0m \u001b[1;33m@\u001b[0m\u001b[0m_copy_docstring_and_deprecators\u001b[0m\u001b[1;33m(\u001b[0m\u001b[0mAxes\u001b[0m\u001b[1;33m.\u001b[0m\u001b[0mplot\u001b[0m\u001b[1;33m)\u001b[0m\u001b[1;33m\u001b[0m\u001b[1;33m\u001b[0m\u001b[0m\n\u001b[0;32m   2839\u001b[0m \u001b[1;32mdef\u001b[0m \u001b[0mplot\u001b[0m\u001b[1;33m(\u001b[0m\u001b[1;33m*\u001b[0m\u001b[0margs\u001b[0m\u001b[1;33m,\u001b[0m \u001b[0mscalex\u001b[0m\u001b[1;33m=\u001b[0m\u001b[1;32mTrue\u001b[0m\u001b[1;33m,\u001b[0m \u001b[0mscaley\u001b[0m\u001b[1;33m=\u001b[0m\u001b[1;32mTrue\u001b[0m\u001b[1;33m,\u001b[0m \u001b[0mdata\u001b[0m\u001b[1;33m=\u001b[0m\u001b[1;32mNone\u001b[0m\u001b[1;33m,\u001b[0m \u001b[1;33m**\u001b[0m\u001b[0mkwargs\u001b[0m\u001b[1;33m)\u001b[0m\u001b[1;33m:\u001b[0m\u001b[1;33m\u001b[0m\u001b[1;33m\u001b[0m\u001b[0m\n\u001b[1;32m-> 2840\u001b[1;33m     return gca().plot(\n\u001b[0m\u001b[0;32m   2841\u001b[0m         \u001b[1;33m*\u001b[0m\u001b[0margs\u001b[0m\u001b[1;33m,\u001b[0m \u001b[0mscalex\u001b[0m\u001b[1;33m=\u001b[0m\u001b[0mscalex\u001b[0m\u001b[1;33m,\u001b[0m \u001b[0mscaley\u001b[0m\u001b[1;33m=\u001b[0m\u001b[0mscaley\u001b[0m\u001b[1;33m,\u001b[0m\u001b[1;33m\u001b[0m\u001b[1;33m\u001b[0m\u001b[0m\n\u001b[0;32m   2842\u001b[0m         **({\"data\": data} if data is not None else {}), **kwargs)\n",
      "\u001b[1;32m~\\Anaconda3\\envs\\i2rl\\lib\\site-packages\\matplotlib\\axes\\_axes.py\u001b[0m in \u001b[0;36mplot\u001b[1;34m(self, scalex, scaley, data, *args, **kwargs)\u001b[0m\n\u001b[0;32m   1741\u001b[0m         \"\"\"\n\u001b[0;32m   1742\u001b[0m         \u001b[0mkwargs\u001b[0m \u001b[1;33m=\u001b[0m \u001b[0mcbook\u001b[0m\u001b[1;33m.\u001b[0m\u001b[0mnormalize_kwargs\u001b[0m\u001b[1;33m(\u001b[0m\u001b[0mkwargs\u001b[0m\u001b[1;33m,\u001b[0m \u001b[0mmlines\u001b[0m\u001b[1;33m.\u001b[0m\u001b[0mLine2D\u001b[0m\u001b[1;33m)\u001b[0m\u001b[1;33m\u001b[0m\u001b[1;33m\u001b[0m\u001b[0m\n\u001b[1;32m-> 1743\u001b[1;33m         \u001b[0mlines\u001b[0m \u001b[1;33m=\u001b[0m \u001b[1;33m[\u001b[0m\u001b[1;33m*\u001b[0m\u001b[0mself\u001b[0m\u001b[1;33m.\u001b[0m\u001b[0m_get_lines\u001b[0m\u001b[1;33m(\u001b[0m\u001b[1;33m*\u001b[0m\u001b[0margs\u001b[0m\u001b[1;33m,\u001b[0m \u001b[0mdata\u001b[0m\u001b[1;33m=\u001b[0m\u001b[0mdata\u001b[0m\u001b[1;33m,\u001b[0m \u001b[1;33m**\u001b[0m\u001b[0mkwargs\u001b[0m\u001b[1;33m)\u001b[0m\u001b[1;33m]\u001b[0m\u001b[1;33m\u001b[0m\u001b[1;33m\u001b[0m\u001b[0m\n\u001b[0m\u001b[0;32m   1744\u001b[0m         \u001b[1;32mfor\u001b[0m \u001b[0mline\u001b[0m \u001b[1;32min\u001b[0m \u001b[0mlines\u001b[0m\u001b[1;33m:\u001b[0m\u001b[1;33m\u001b[0m\u001b[1;33m\u001b[0m\u001b[0m\n\u001b[0;32m   1745\u001b[0m             \u001b[0mself\u001b[0m\u001b[1;33m.\u001b[0m\u001b[0madd_line\u001b[0m\u001b[1;33m(\u001b[0m\u001b[0mline\u001b[0m\u001b[1;33m)\u001b[0m\u001b[1;33m\u001b[0m\u001b[1;33m\u001b[0m\u001b[0m\n",
      "\u001b[1;32m~\\Anaconda3\\envs\\i2rl\\lib\\site-packages\\matplotlib\\axes\\_base.py\u001b[0m in \u001b[0;36m__call__\u001b[1;34m(self, data, *args, **kwargs)\u001b[0m\n\u001b[0;32m    271\u001b[0m                 \u001b[0mthis\u001b[0m \u001b[1;33m+=\u001b[0m \u001b[0margs\u001b[0m\u001b[1;33m[\u001b[0m\u001b[1;36m0\u001b[0m\u001b[1;33m]\u001b[0m\u001b[1;33m,\u001b[0m\u001b[1;33m\u001b[0m\u001b[1;33m\u001b[0m\u001b[0m\n\u001b[0;32m    272\u001b[0m                 \u001b[0margs\u001b[0m \u001b[1;33m=\u001b[0m \u001b[0margs\u001b[0m\u001b[1;33m[\u001b[0m\u001b[1;36m1\u001b[0m\u001b[1;33m:\u001b[0m\u001b[1;33m]\u001b[0m\u001b[1;33m\u001b[0m\u001b[1;33m\u001b[0m\u001b[0m\n\u001b[1;32m--> 273\u001b[1;33m             \u001b[1;32myield\u001b[0m \u001b[1;32mfrom\u001b[0m \u001b[0mself\u001b[0m\u001b[1;33m.\u001b[0m\u001b[0m_plot_args\u001b[0m\u001b[1;33m(\u001b[0m\u001b[0mthis\u001b[0m\u001b[1;33m,\u001b[0m \u001b[0mkwargs\u001b[0m\u001b[1;33m)\u001b[0m\u001b[1;33m\u001b[0m\u001b[1;33m\u001b[0m\u001b[0m\n\u001b[0m\u001b[0;32m    274\u001b[0m \u001b[1;33m\u001b[0m\u001b[0m\n\u001b[0;32m    275\u001b[0m     \u001b[1;32mdef\u001b[0m \u001b[0mget_next_color\u001b[0m\u001b[1;33m(\u001b[0m\u001b[0mself\u001b[0m\u001b[1;33m)\u001b[0m\u001b[1;33m:\u001b[0m\u001b[1;33m\u001b[0m\u001b[1;33m\u001b[0m\u001b[0m\n",
      "\u001b[1;32m~\\Anaconda3\\envs\\i2rl\\lib\\site-packages\\matplotlib\\axes\\_base.py\u001b[0m in \u001b[0;36m_plot_args\u001b[1;34m(self, tup, kwargs)\u001b[0m\n\u001b[0;32m    397\u001b[0m \u001b[1;33m\u001b[0m\u001b[0m\n\u001b[0;32m    398\u001b[0m         \u001b[1;32mif\u001b[0m \u001b[0mx\u001b[0m\u001b[1;33m.\u001b[0m\u001b[0mshape\u001b[0m\u001b[1;33m[\u001b[0m\u001b[1;36m0\u001b[0m\u001b[1;33m]\u001b[0m \u001b[1;33m!=\u001b[0m \u001b[0my\u001b[0m\u001b[1;33m.\u001b[0m\u001b[0mshape\u001b[0m\u001b[1;33m[\u001b[0m\u001b[1;36m0\u001b[0m\u001b[1;33m]\u001b[0m\u001b[1;33m:\u001b[0m\u001b[1;33m\u001b[0m\u001b[1;33m\u001b[0m\u001b[0m\n\u001b[1;32m--> 399\u001b[1;33m             raise ValueError(f\"x and y must have same first dimension, but \"\n\u001b[0m\u001b[0;32m    400\u001b[0m                              f\"have shapes {x.shape} and {y.shape}\")\n\u001b[0;32m    401\u001b[0m         \u001b[1;32mif\u001b[0m \u001b[0mx\u001b[0m\u001b[1;33m.\u001b[0m\u001b[0mndim\u001b[0m \u001b[1;33m>\u001b[0m \u001b[1;36m2\u001b[0m \u001b[1;32mor\u001b[0m \u001b[0my\u001b[0m\u001b[1;33m.\u001b[0m\u001b[0mndim\u001b[0m \u001b[1;33m>\u001b[0m \u001b[1;36m2\u001b[0m\u001b[1;33m:\u001b[0m\u001b[1;33m\u001b[0m\u001b[1;33m\u001b[0m\u001b[0m\n",
      "\u001b[1;31mValueError\u001b[0m: x and y must have same first dimension, but have shapes (3624,) and (52560,)"
     ]
    },
    {
     "data": {
      "image/png": "[encoded data removed]",
      "text/plain": [
       "<Figure size 1440x720 with 1 Axes>"
      ]
     },
     "metadata": {
      "needs_background": "light"
     },
     "output_type": "display_data"
    }
   ],
   "source": [
    "plt.figure(figsize=(20,10))\n",
    "plt.plot(np.arange(151*24), num_patients_list)"
   ]
  },
  {
   "cell_type": "code",
   "execution_count": null,
   "id": "turned-monthly",
   "metadata": {},
   "outputs": [],
   "source": []
  }
 ],
 "metadata": {
  "kernelspec": {
   "display_name": "Python 3",
   "language": "python",
   "name": "python3"
  },
  "language_info": {
   "codemirror_mode": {
    "name": "ipython",
    "version": 3
   },
   "file_extension": ".py",
   "mimetype": "text/x-python",
   "name": "python",
   "nbconvert_exporter": "python",
   "pygments_lexer": "ipython3",
   "version": "3.8.5"
  }
 },
 "nbformat": 4,
 "nbformat_minor": 5
}
