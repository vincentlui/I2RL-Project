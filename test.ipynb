{
 "cells": [
  {
   "cell_type": "code",
   "execution_count": 36,
   "id": "portuguese-conflict",
   "metadata": {},
   "outputs": [
    {
     "name": "stdout",
     "output_type": "stream",
     "text": [
      "The autoreload extension is already loaded. To reload it, use:\n",
      "  %reload_ext autoreload\n"
     ]
    }
   ],
   "source": [
    "import numpy as np\n",
    "from env.Environment import Environment, State\n",
    "import pandas as pd\n",
    "import torch\n",
    "from torch.utils.data import TensorDataset, DataLoader\n",
    "from network.network import PatientClassificationNet, PatientGroupNet\n",
    "from DataProcess import DataProcess\n",
    "\n",
    "%load_ext autoreload\n",
    "%autoreload 2"
   ]
  },
  {
   "cell_type": "code",
   "execution_count": 20,
   "id": "legal-belfast",
   "metadata": {},
   "outputs": [],
   "source": [
    "num_bed = 10\n",
    "num_class = 6"
   ]
  },
  {
   "cell_type": "code",
   "execution_count": 34,
   "id": "chemical-summit",
   "metadata": {},
   "outputs": [],
   "source": [
    "def _prepare_data():\n",
    "    df = pd.read_excel(r'data.xlsx')\n",
    "    df = df[~df['Fallnummer'].isnull()]\n",
    "\n",
    "    X = df.loc[:, ['AGE', 'Admission type 2', 'No. of times sent to ICU', 'FA ab para']]\n",
    "    X['FA ab para'] = X['FA ab para'].replace([1, 5, 10, 14, 16, 21, 22], X['FA ab para'].max() + 1)\n",
    "    X = torch.Tensor(X.to_numpy())\n",
    "    fa_val = X[:, 3].unique()\n",
    "    tmp = X[:, 3].unsqueeze(1).expand((-1, len(fa_val))) == fa_val\n",
    "    X = torch.cat((X[:, :3], tmp.float()), dim=1)\n",
    "    X[:, 2] = (X[:, 2] > 1)\n",
    "    X = (X - X.mean(0)) / X.std(0)\n",
    "\n",
    "    Y = df.loc[:, ['Tod']]\n",
    "    Y = torch.Tensor(Y.to_numpy())\n",
    "\n",
    "    num_feature = X.shape[-1]\n",
    "\n",
    "    num_train = int(len(X) * 0.8)\n",
    "    shuffle_indices = np.arange(len(X))\n",
    "    np.random.shuffle(shuffle_indices)\n",
    "    X = X[shuffle_indices]\n",
    "    Y = Y[shuffle_indices]\n",
    "    X_train = X[:num_train]\n",
    "    y_train = Y[:num_train]\n",
    "    X_test = X[num_train:]\n",
    "    y_test = Y[num_train:]\n",
    "    dataset_train = TensorDataset(X_train, y_train)\n",
    "    dataset_test = TensorDataset(X_test, y_test)\n",
    "    trainloader = DataLoader(dataset_train, batch_size=128, shuffle=True)\n",
    "    testloader = DataLoader(dataset_test, batch_size=128, shuffle=True)\n",
    "\n",
    "    return num_train, num_feature, trainloader, testloader, X_train, y_train, X_test, y_test\n",
    "\n",
    "\n",
    "def _calculate_class_boundary(net, X, num_train, num_class, percetage=None):\n",
    "    outputs = net.patient_class_net(X)\n",
    "    v, _ = outputs.sort(0)\n",
    "    if percetage is None:\n",
    "        class_boundary = torch.Tensor([v[int(num_train * i / float(num_class) - 1)] for i in range(1, num_class + 1)])\n",
    "    else:\n",
    "        class_boundary = torch.Tensor([v[int(num_train * percetage[i] - 1)] for i in range(0, num_class)])\n",
    "    return class_boundary\n",
    "\n",
    "def load_net(input_dim, hidden, class_boundary, path):\n",
    "    class_boundary = torch.Tensor(class_boundary)\n",
    "    temp = PatientClassificationNet(input_dim, hidden)\n",
    "    net = PatientGroupNet(temp, class_boundary)\n",
    "    net.load_state_dict(torch.load(path))\n",
    "    return net"
   ]
  },
  {
   "cell_type": "code",
   "execution_count": 32,
   "id": "concrete-flour",
   "metadata": {},
   "outputs": [],
   "source": [
    "num_train, num_feature, trainloader, testloader, X_train, y_train, X_test, y_test = _prepare_data()\n"
   ]
  },
  {
   "cell_type": "code",
   "execution_count": 35,
   "id": "short-mistake",
   "metadata": {},
   "outputs": [
    {
     "name": "stdout",
     "output_type": "stream",
     "text": [
      "tensor([[9.2742e-05],\n",
      "        [9.7380e-05],\n",
      "        [1.3648e-04],\n",
      "        ...,\n",
      "        [5.6844e-01],\n",
      "        [5.9560e-01],\n",
      "        [6.5335e-01]], grad_fn=<SortBackward>)\n"
     ]
    },
    {
     "data": {
      "text/plain": [
       "tensor([0.0131, 0.0345, 0.0555, 0.0810, 0.1381, 0.6534])"
      ]
     },
     "execution_count": 35,
     "metadata": {},
     "output_type": "execute_result"
    }
   ],
   "source": [
    "net = load_net(21, 256, [0.0065, 0.0240, 0.0404, 0.0571, 0.0760, 0.1060, 0.1640, 0.6534], './model/patient_group_net.pth')\n",
    "class_boundary = _calculate_class_boundary(net, X_train, num_train, num_class)\n",
    "net.class_boundary = class_boundary\n",
    "class_boundary"
   ]
  },
  {
   "cell_type": "code",
   "execution_count": 40,
   "id": "recreational-birmingham",
   "metadata": {},
   "outputs": [
    {
     "name": "stdout",
     "output_type": "stream",
     "text": [
      "Processing file data.xlsx\n",
      "Mean los per class [0.6414718959027855, 1.8064469473142297, 2.0702363927845457, 2.5320048754466398, 2.5903448836818734, 2.641957131408011, 2.8534830898960806, 3.719057824842895]\n",
      "1 1.3123224251590295\n",
      "2 2.3851740562669455\n",
      "3 2.7601770500501117\n",
      "4 2.7530320279274845\n",
      "5 2.6493594182811093\n",
      "6 3.2294760959960507\n",
      "7 3.3351556343598316\n",
      "8 4.247728018372573\n",
      "Data process finished\n"
     ]
    },
    {
     "data": {
      "text/plain": [
       "([0.3928082191780822,\n",
       "  0.07796803652968036,\n",
       "  0.0776255707762557,\n",
       "  0.07328767123287672,\n",
       "  0.07819634703196347,\n",
       "  0.07853881278538813,\n",
       "  0.07146118721461187,\n",
       "  0.07363013698630137,\n",
       "  0.07648401826484018],\n",
       " [0.06495478123484495,\n",
       "  0.023065535762683425,\n",
       "  0.0201265260391947,\n",
       "  0.016455997802656983,\n",
       "  0.016085374163552442,\n",
       "  0.015771136545452098,\n",
       "  0.014602037353648414,\n",
       "  0.011203554402498919],\n",
       " [0.03175032741029128,\n",
       "  0.01746902560724625,\n",
       "  0.015095649993144535,\n",
       "  0.015134828161819039,\n",
       "  0.015727072128892117,\n",
       "  0.012901989495548698,\n",
       "  0.012493170104988037,\n",
       "  0.009809165390638726],\n",
       " [0.006847985891974875,\n",
       "  0.0675641225513241,\n",
       "  0.3645487971361824,\n",
       "  0.026689814814905156,\n",
       "  0.02455304182979476,\n",
       "  0.6264421606256592,\n",
       "  1.1699432862591812,\n",
       "  0.8426338099430193],\n",
       " [0.0014641288433382138,\n",
       "  0.025,\n",
       "  0.03115264797507788,\n",
       "  0.08029197080291971,\n",
       "  0.07703488372093023,\n",
       "  0.1134185303514377,\n",
       "  0.15038759689922482,\n",
       "  0.2626865671641791],\n",
       " [0.0021645021645021645,\n",
       "  0.011363636363636364,\n",
       "  0.031446540880503145,\n",
       "  0.07857142857142857,\n",
       "  0.08191126279863481,\n",
       "  0.11301369863013698,\n",
       "  0.14426229508196722,\n",
       "  0.3058823529411765])"
      ]
     },
     "execution_count": 40,
     "metadata": {},
     "output_type": "execute_result"
    }
   ],
   "source": [
    "d = DataProcess(net, 60)\n",
    "d.process()"
   ]
  },
  {
   "cell_type": "code",
   "execution_count": 47,
   "id": "hearing-disposition",
   "metadata": {},
   "outputs": [
    {
     "name": "stdout",
     "output_type": "stream",
     "text": [
      "(18648630, 7)\n"
     ]
    },
    {
     "data": {
      "text/plain": [
       "(3108105, 8)"
      ]
     },
     "execution_count": 47,
     "metadata": {},
     "output_type": "execute_result"
    }
   ],
   "source": [
    "tmp = np.tile(all_x, (num_bed+1,1))\n",
    "print(tmp.shape)\n",
    "tmp2 = np.tile(np.arange(num_bed + 1), (len(all_x), 1)).T.reshape(-1,1)\n",
    "tmp = np.concatenate([tmp,tmp2], axis=-1)\n",
    "all_x = tmp[tmp.sum(-1) <= num_bed]\n",
    "all_x.shape"
   ]
  },
  {
   "cell_type": "code",
   "execution_count": null,
   "id": "narrative-ivory",
   "metadata": {},
   "outputs": [],
   "source": []
  }
 ],
 "metadata": {
  "kernelspec": {
   "display_name": "Python 3",
   "language": "python",
   "name": "python3"
  },
  "language_info": {
   "codemirror_mode": {
    "name": "ipython",
    "version": 3
   },
   "file_extension": ".py",
   "mimetype": "text/x-python",
   "name": "python",
   "nbconvert_exporter": "python",
   "pygments_lexer": "ipython3",
   "version": "3.8.5"
  }
 },
 "nbformat": 4,
 "nbformat_minor": 5
}
