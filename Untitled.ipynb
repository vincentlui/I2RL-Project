{
 "cells": [
  {
   "cell_type": "code",
   "execution_count": 2,
   "id": "developmental-presence",
   "metadata": {},
   "outputs": [],
   "source": [
    "import pandas as pd\n",
    "import numpy as np\n",
    "from datetime import datetime, timedelta\n",
    "import matplotlib.pyplot as plt"
   ]
  },
  {
   "cell_type": "code",
   "execution_count": 3,
   "id": "recognized-patrick",
   "metadata": {},
   "outputs": [],
   "source": [
    "df = pd.read_excel (r'data.xlsx')"
   ]
  },
  {
   "cell_type": "code",
   "execution_count": 4,
   "id": "comprehensive-engineering",
   "metadata": {},
   "outputs": [],
   "source": [
    "df = df[~df['Fallnummer'].isnull()]"
   ]
  },
  {
   "cell_type": "code",
   "execution_count": 5,
   "id": "recognized-syndrome",
   "metadata": {},
   "outputs": [
    {
     "data": {
      "text/plain": [
       "0      2015-01-08 19:59:59.999997\n",
       "1      2015-01-13 16:59:59.999997\n",
       "2      2015-01-14 15:08:00.000004\n",
       "3      2015-01-05 13:00:59.999999\n",
       "4      2015-01-15 16:07:59.999998\n",
       "                  ...            \n",
       "5314   2015-12-31 03:24:59.999999\n",
       "5315   2015-12-31 00:54:00.000000\n",
       "5316   2015-12-30 23:24:59.999996\n",
       "5317   2015-12-31 09:11:00.000001\n",
       "5318   2015-12-31 20:23:00.000004\n",
       "Name: Transfer into ICU, Length: 5319, dtype: datetime64[ns]"
      ]
     },
     "execution_count": 5,
     "metadata": {},
     "output_type": "execute_result"
    }
   ],
   "source": [
    "df['Transfer into ICU']"
   ]
  },
  {
   "cell_type": "code",
   "execution_count": 7,
   "id": "breeding-wages",
   "metadata": {},
   "outputs": [
    {
     "ename": "KeyboardInterrupt",
     "evalue": "",
     "output_type": "error",
     "traceback": [
      "\u001b[1;31m---------------------------------------------------------------------------\u001b[0m",
      "\u001b[1;31mKeyboardInterrupt\u001b[0m                         Traceback (most recent call last)",
      "\u001b[1;32m<ipython-input-7-9d8883d9a546>\u001b[0m in \u001b[0;36m<module>\u001b[1;34m\u001b[0m\n\u001b[0;32m     12\u001b[0m     \u001b[0mindices_transfer\u001b[0m \u001b[1;33m=\u001b[0m \u001b[0mdf\u001b[0m\u001b[1;33m.\u001b[0m\u001b[0mloc\u001b[0m\u001b[1;33m[\u001b[0m\u001b[1;33m(\u001b[0m\u001b[0mcol_transfer_into_icu\u001b[0m \u001b[1;33m>=\u001b[0m \u001b[0mt\u001b[0m\u001b[1;33m)\u001b[0m \u001b[1;33m&\u001b[0m \u001b[1;33m(\u001b[0m\u001b[0mcol_transfer_into_icu\u001b[0m \u001b[1;33m<\u001b[0m \u001b[0mt\u001b[0m\u001b[1;33m+\u001b[0m\u001b[0mt_delta\u001b[0m\u001b[1;33m)\u001b[0m\u001b[1;33m]\u001b[0m\u001b[1;33m.\u001b[0m\u001b[0mindex\u001b[0m\u001b[1;33m\u001b[0m\u001b[1;33m\u001b[0m\u001b[0m\n\u001b[0;32m     13\u001b[0m     \u001b[0mindex_list_transfer\u001b[0m\u001b[1;33m.\u001b[0m\u001b[0mappend\u001b[0m\u001b[1;33m(\u001b[0m\u001b[0mindices_transfer\u001b[0m\u001b[1;33m)\u001b[0m\u001b[1;33m\u001b[0m\u001b[1;33m\u001b[0m\u001b[0m\n\u001b[1;32m---> 14\u001b[1;33m     \u001b[0mindices_leave\u001b[0m \u001b[1;33m=\u001b[0m \u001b[0mdf\u001b[0m\u001b[1;33m.\u001b[0m\u001b[0mloc\u001b[0m\u001b[1;33m[\u001b[0m\u001b[1;33m(\u001b[0m\u001b[0mcol_leave_icu\u001b[0m \u001b[1;33m>=\u001b[0m \u001b[0mt\u001b[0m\u001b[1;33m)\u001b[0m \u001b[1;33m&\u001b[0m \u001b[1;33m(\u001b[0m\u001b[0mcol_leave_icu\u001b[0m \u001b[1;33m<\u001b[0m \u001b[0mt\u001b[0m\u001b[1;33m+\u001b[0m\u001b[0mt_delta\u001b[0m\u001b[1;33m)\u001b[0m\u001b[1;33m]\u001b[0m\u001b[1;33m.\u001b[0m\u001b[0mindex\u001b[0m\u001b[1;33m\u001b[0m\u001b[1;33m\u001b[0m\u001b[0m\n\u001b[0m\u001b[0;32m     15\u001b[0m     \u001b[0mindex_list_leave\u001b[0m\u001b[1;33m.\u001b[0m\u001b[0mappend\u001b[0m\u001b[1;33m(\u001b[0m\u001b[0mindices_leave\u001b[0m\u001b[1;33m)\u001b[0m\u001b[1;33m\u001b[0m\u001b[1;33m\u001b[0m\u001b[0m\n\u001b[0;32m     16\u001b[0m     \u001b[0mnum_patients\u001b[0m \u001b[1;33m+=\u001b[0m \u001b[0mlen\u001b[0m\u001b[1;33m(\u001b[0m\u001b[0mindices_transfer\u001b[0m\u001b[1;33m)\u001b[0m \u001b[1;33m-\u001b[0m \u001b[0mlen\u001b[0m\u001b[1;33m(\u001b[0m\u001b[0mindices_leave\u001b[0m\u001b[1;33m)\u001b[0m\u001b[1;33m\u001b[0m\u001b[1;33m\u001b[0m\u001b[0m\n",
      "\u001b[1;32m~\\Anaconda3\\envs\\i2rl\\lib\\site-packages\\pandas\\core\\ops\\common.py\u001b[0m in \u001b[0;36mnew_method\u001b[1;34m(self, other)\u001b[0m\n\u001b[0;32m     63\u001b[0m         \u001b[0mother\u001b[0m \u001b[1;33m=\u001b[0m \u001b[0mitem_from_zerodim\u001b[0m\u001b[1;33m(\u001b[0m\u001b[0mother\u001b[0m\u001b[1;33m)\u001b[0m\u001b[1;33m\u001b[0m\u001b[1;33m\u001b[0m\u001b[0m\n\u001b[0;32m     64\u001b[0m \u001b[1;33m\u001b[0m\u001b[0m\n\u001b[1;32m---> 65\u001b[1;33m         \u001b[1;32mreturn\u001b[0m \u001b[0mmethod\u001b[0m\u001b[1;33m(\u001b[0m\u001b[0mself\u001b[0m\u001b[1;33m,\u001b[0m \u001b[0mother\u001b[0m\u001b[1;33m)\u001b[0m\u001b[1;33m\u001b[0m\u001b[1;33m\u001b[0m\u001b[0m\n\u001b[0m\u001b[0;32m     66\u001b[0m \u001b[1;33m\u001b[0m\u001b[0m\n\u001b[0;32m     67\u001b[0m     \u001b[1;32mreturn\u001b[0m \u001b[0mnew_method\u001b[0m\u001b[1;33m\u001b[0m\u001b[1;33m\u001b[0m\u001b[0m\n",
      "\u001b[1;32m~\\Anaconda3\\envs\\i2rl\\lib\\site-packages\\pandas\\core\\arraylike.py\u001b[0m in \u001b[0;36m__lt__\u001b[1;34m(self, other)\u001b[0m\n\u001b[0;32m     35\u001b[0m     \u001b[1;33m@\u001b[0m\u001b[0munpack_zerodim_and_defer\u001b[0m\u001b[1;33m(\u001b[0m\u001b[1;34m\"__lt__\"\u001b[0m\u001b[1;33m)\u001b[0m\u001b[1;33m\u001b[0m\u001b[1;33m\u001b[0m\u001b[0m\n\u001b[0;32m     36\u001b[0m     \u001b[1;32mdef\u001b[0m \u001b[0m__lt__\u001b[0m\u001b[1;33m(\u001b[0m\u001b[0mself\u001b[0m\u001b[1;33m,\u001b[0m \u001b[0mother\u001b[0m\u001b[1;33m)\u001b[0m\u001b[1;33m:\u001b[0m\u001b[1;33m\u001b[0m\u001b[1;33m\u001b[0m\u001b[0m\n\u001b[1;32m---> 37\u001b[1;33m         \u001b[1;32mreturn\u001b[0m \u001b[0mself\u001b[0m\u001b[1;33m.\u001b[0m\u001b[0m_cmp_method\u001b[0m\u001b[1;33m(\u001b[0m\u001b[0mother\u001b[0m\u001b[1;33m,\u001b[0m \u001b[0moperator\u001b[0m\u001b[1;33m.\u001b[0m\u001b[0mlt\u001b[0m\u001b[1;33m)\u001b[0m\u001b[1;33m\u001b[0m\u001b[1;33m\u001b[0m\u001b[0m\n\u001b[0m\u001b[0;32m     38\u001b[0m \u001b[1;33m\u001b[0m\u001b[0m\n\u001b[0;32m     39\u001b[0m     \u001b[1;33m@\u001b[0m\u001b[0munpack_zerodim_and_defer\u001b[0m\u001b[1;33m(\u001b[0m\u001b[1;34m\"__le__\"\u001b[0m\u001b[1;33m)\u001b[0m\u001b[1;33m\u001b[0m\u001b[1;33m\u001b[0m\u001b[0m\n",
      "\u001b[1;32m~\\Anaconda3\\envs\\i2rl\\lib\\site-packages\\pandas\\core\\series.py\u001b[0m in \u001b[0;36m_cmp_method\u001b[1;34m(self, other, op)\u001b[0m\n\u001b[0;32m   4946\u001b[0m         \u001b[0mrvalues\u001b[0m \u001b[1;33m=\u001b[0m \u001b[0mextract_array\u001b[0m\u001b[1;33m(\u001b[0m\u001b[0mother\u001b[0m\u001b[1;33m,\u001b[0m \u001b[0mextract_numpy\u001b[0m\u001b[1;33m=\u001b[0m\u001b[1;32mTrue\u001b[0m\u001b[1;33m)\u001b[0m\u001b[1;33m\u001b[0m\u001b[1;33m\u001b[0m\u001b[0m\n\u001b[0;32m   4947\u001b[0m \u001b[1;33m\u001b[0m\u001b[0m\n\u001b[1;32m-> 4948\u001b[1;33m         \u001b[0mres_values\u001b[0m \u001b[1;33m=\u001b[0m \u001b[0mops\u001b[0m\u001b[1;33m.\u001b[0m\u001b[0mcomparison_op\u001b[0m\u001b[1;33m(\u001b[0m\u001b[0mlvalues\u001b[0m\u001b[1;33m,\u001b[0m \u001b[0mrvalues\u001b[0m\u001b[1;33m,\u001b[0m \u001b[0mop\u001b[0m\u001b[1;33m)\u001b[0m\u001b[1;33m\u001b[0m\u001b[1;33m\u001b[0m\u001b[0m\n\u001b[0m\u001b[0;32m   4949\u001b[0m \u001b[1;33m\u001b[0m\u001b[0m\n\u001b[0;32m   4950\u001b[0m         \u001b[1;32mreturn\u001b[0m \u001b[0mself\u001b[0m\u001b[1;33m.\u001b[0m\u001b[0m_construct_result\u001b[0m\u001b[1;33m(\u001b[0m\u001b[0mres_values\u001b[0m\u001b[1;33m,\u001b[0m \u001b[0mname\u001b[0m\u001b[1;33m=\u001b[0m\u001b[0mres_name\u001b[0m\u001b[1;33m)\u001b[0m\u001b[1;33m\u001b[0m\u001b[1;33m\u001b[0m\u001b[0m\n",
      "\u001b[1;32m~\\Anaconda3\\envs\\i2rl\\lib\\site-packages\\pandas\\core\\ops\\array_ops.py\u001b[0m in \u001b[0;36mcomparison_op\u001b[1;34m(left, right, op)\u001b[0m\n\u001b[0;32m    227\u001b[0m     \u001b[1;32mif\u001b[0m \u001b[0mshould_extension_dispatch\u001b[0m\u001b[1;33m(\u001b[0m\u001b[0mlvalues\u001b[0m\u001b[1;33m,\u001b[0m \u001b[0mrvalues\u001b[0m\u001b[1;33m)\u001b[0m\u001b[1;33m:\u001b[0m\u001b[1;33m\u001b[0m\u001b[1;33m\u001b[0m\u001b[0m\n\u001b[0;32m    228\u001b[0m         \u001b[1;31m# Call the method on lvalues\u001b[0m\u001b[1;33m\u001b[0m\u001b[1;33m\u001b[0m\u001b[1;33m\u001b[0m\u001b[0m\n\u001b[1;32m--> 229\u001b[1;33m         \u001b[0mres_values\u001b[0m \u001b[1;33m=\u001b[0m \u001b[0mop\u001b[0m\u001b[1;33m(\u001b[0m\u001b[0mlvalues\u001b[0m\u001b[1;33m,\u001b[0m \u001b[0mrvalues\u001b[0m\u001b[1;33m)\u001b[0m\u001b[1;33m\u001b[0m\u001b[1;33m\u001b[0m\u001b[0m\n\u001b[0m\u001b[0;32m    230\u001b[0m \u001b[1;33m\u001b[0m\u001b[0m\n\u001b[0;32m    231\u001b[0m     \u001b[1;32melif\u001b[0m \u001b[0mis_scalar\u001b[0m\u001b[1;33m(\u001b[0m\u001b[0mrvalues\u001b[0m\u001b[1;33m)\u001b[0m \u001b[1;32mand\u001b[0m \u001b[0misna\u001b[0m\u001b[1;33m(\u001b[0m\u001b[0mrvalues\u001b[0m\u001b[1;33m)\u001b[0m\u001b[1;33m:\u001b[0m\u001b[1;33m\u001b[0m\u001b[1;33m\u001b[0m\u001b[0m\n",
      "\u001b[1;32m~\\Anaconda3\\envs\\i2rl\\lib\\site-packages\\pandas\\core\\ops\\common.py\u001b[0m in \u001b[0;36mnew_method\u001b[1;34m(self, other)\u001b[0m\n\u001b[0;32m     63\u001b[0m         \u001b[0mother\u001b[0m \u001b[1;33m=\u001b[0m \u001b[0mitem_from_zerodim\u001b[0m\u001b[1;33m(\u001b[0m\u001b[0mother\u001b[0m\u001b[1;33m)\u001b[0m\u001b[1;33m\u001b[0m\u001b[1;33m\u001b[0m\u001b[0m\n\u001b[0;32m     64\u001b[0m \u001b[1;33m\u001b[0m\u001b[0m\n\u001b[1;32m---> 65\u001b[1;33m         \u001b[1;32mreturn\u001b[0m \u001b[0mmethod\u001b[0m\u001b[1;33m(\u001b[0m\u001b[0mself\u001b[0m\u001b[1;33m,\u001b[0m \u001b[0mother\u001b[0m\u001b[1;33m)\u001b[0m\u001b[1;33m\u001b[0m\u001b[1;33m\u001b[0m\u001b[0m\n\u001b[0m\u001b[0;32m     66\u001b[0m \u001b[1;33m\u001b[0m\u001b[0m\n\u001b[0;32m     67\u001b[0m     \u001b[1;32mreturn\u001b[0m \u001b[0mnew_method\u001b[0m\u001b[1;33m\u001b[0m\u001b[1;33m\u001b[0m\u001b[0m\n",
      "\u001b[1;32m~\\Anaconda3\\envs\\i2rl\\lib\\site-packages\\pandas\\core\\arraylike.py\u001b[0m in \u001b[0;36m__lt__\u001b[1;34m(self, other)\u001b[0m\n\u001b[0;32m     35\u001b[0m     \u001b[1;33m@\u001b[0m\u001b[0munpack_zerodim_and_defer\u001b[0m\u001b[1;33m(\u001b[0m\u001b[1;34m\"__lt__\"\u001b[0m\u001b[1;33m)\u001b[0m\u001b[1;33m\u001b[0m\u001b[1;33m\u001b[0m\u001b[0m\n\u001b[0;32m     36\u001b[0m     \u001b[1;32mdef\u001b[0m \u001b[0m__lt__\u001b[0m\u001b[1;33m(\u001b[0m\u001b[0mself\u001b[0m\u001b[1;33m,\u001b[0m \u001b[0mother\u001b[0m\u001b[1;33m)\u001b[0m\u001b[1;33m:\u001b[0m\u001b[1;33m\u001b[0m\u001b[1;33m\u001b[0m\u001b[0m\n\u001b[1;32m---> 37\u001b[1;33m         \u001b[1;32mreturn\u001b[0m \u001b[0mself\u001b[0m\u001b[1;33m.\u001b[0m\u001b[0m_cmp_method\u001b[0m\u001b[1;33m(\u001b[0m\u001b[0mother\u001b[0m\u001b[1;33m,\u001b[0m \u001b[0moperator\u001b[0m\u001b[1;33m.\u001b[0m\u001b[0mlt\u001b[0m\u001b[1;33m)\u001b[0m\u001b[1;33m\u001b[0m\u001b[1;33m\u001b[0m\u001b[0m\n\u001b[0m\u001b[0;32m     38\u001b[0m \u001b[1;33m\u001b[0m\u001b[0m\n\u001b[0;32m     39\u001b[0m     \u001b[1;33m@\u001b[0m\u001b[0munpack_zerodim_and_defer\u001b[0m\u001b[1;33m(\u001b[0m\u001b[1;34m\"__le__\"\u001b[0m\u001b[1;33m)\u001b[0m\u001b[1;33m\u001b[0m\u001b[1;33m\u001b[0m\u001b[0m\n",
      "\u001b[1;32m~\\Anaconda3\\envs\\i2rl\\lib\\site-packages\\pandas\\core\\arrays\\datetimelike.py\u001b[0m in \u001b[0;36m_cmp_method\u001b[1;34m(self, other, op)\u001b[0m\n\u001b[0;32m    947\u001b[0m         \u001b[0mother_vals\u001b[0m \u001b[1;33m=\u001b[0m \u001b[0mself\u001b[0m\u001b[1;33m.\u001b[0m\u001b[0m_unbox\u001b[0m\u001b[1;33m(\u001b[0m\u001b[0mother\u001b[0m\u001b[1;33m)\u001b[0m\u001b[1;33m\u001b[0m\u001b[1;33m\u001b[0m\u001b[0m\n\u001b[0;32m    948\u001b[0m         \u001b[1;31m# GH#37462 comparison on i8 values is almost 2x faster than M8/m8\u001b[0m\u001b[1;33m\u001b[0m\u001b[1;33m\u001b[0m\u001b[1;33m\u001b[0m\u001b[0m\n\u001b[1;32m--> 949\u001b[1;33m         \u001b[0mresult\u001b[0m \u001b[1;33m=\u001b[0m \u001b[0mop\u001b[0m\u001b[1;33m(\u001b[0m\u001b[0mself\u001b[0m\u001b[1;33m.\u001b[0m\u001b[0m_ndarray\u001b[0m\u001b[1;33m.\u001b[0m\u001b[0mview\u001b[0m\u001b[1;33m(\u001b[0m\u001b[1;34m\"i8\"\u001b[0m\u001b[1;33m)\u001b[0m\u001b[1;33m,\u001b[0m \u001b[0mother_vals\u001b[0m\u001b[1;33m.\u001b[0m\u001b[0mview\u001b[0m\u001b[1;33m(\u001b[0m\u001b[1;34m\"i8\"\u001b[0m\u001b[1;33m)\u001b[0m\u001b[1;33m)\u001b[0m\u001b[1;33m\u001b[0m\u001b[1;33m\u001b[0m\u001b[0m\n\u001b[0m\u001b[0;32m    950\u001b[0m \u001b[1;33m\u001b[0m\u001b[0m\n\u001b[0;32m    951\u001b[0m         \u001b[0mo_mask\u001b[0m \u001b[1;33m=\u001b[0m \u001b[0misna\u001b[0m\u001b[1;33m(\u001b[0m\u001b[0mother\u001b[0m\u001b[1;33m)\u001b[0m\u001b[1;33m\u001b[0m\u001b[1;33m\u001b[0m\u001b[0m\n",
      "\u001b[1;31mKeyboardInterrupt\u001b[0m: "
     ]
    }
   ],
   "source": [
    "t = datetime(2015,1,1)\n",
    "# t_end = datetime(2015, 1, 8)\n",
    "t_end = datetime(2016,1,1)\n",
    "t_delta = timedelta(minutes=10)\n",
    "col_transfer_into_icu = df['Transfer into ICU']\n",
    "col_leave_icu = df['Leave ICU']\n",
    "index_list_transfer = []\n",
    "index_list_leave = []\n",
    "num_patients = 0\n",
    "num_patients_list = []\n",
    "while t < t_end:\n",
    "    indices_transfer = df.loc[(col_transfer_into_icu >= t) & (col_transfer_into_icu < t+t_delta)].index\n",
    "    index_list_transfer.append(indices_transfer)\n",
    "    indices_leave = df.loc[(col_leave_icu >= t) & (col_leave_icu < t+t_delta)].index\n",
    "    index_list_leave.append(indices_leave)\n",
    "    num_patients += len(indices_transfer) - len(indices_leave)\n",
    "    num_patients_list.append(num_patients)\n",
    "    t = t + t_delta"
   ]
  },
  {
   "cell_type": "code",
   "execution_count": 45,
   "id": "unlike-cemetery",
   "metadata": {},
   "outputs": [],
   "source": [
    "num_patients_list = np.array(num_patients_list)"
   ]
  },
  {
   "cell_type": "code",
   "execution_count": 50,
   "id": "agreed-thickness",
   "metadata": {},
   "outputs": [],
   "source": [
    "num_bed = num_patients_list.max()"
   ]
  },
  {
   "cell_type": "code",
   "execution_count": 8,
   "id": "seventh-familiar",
   "metadata": {},
   "outputs": [
    {
     "name": "stdout",
     "output_type": "stream",
     "text": [
      "0.0688368938623262\n",
      "0.0839662447257384\n"
     ]
    }
   ],
   "source": [
    "df_ad1 = df[df['Admission type 2'] == 1]\n",
    "df_ad2 = df[df['Admission type 2'] == 2]\n",
    "\n",
    "print(len(df_ad1[df_ad1['Tod']==1]) / len(df_ad1))\n",
    "print(len(df_ad2[df_ad2['Tod']==1]) / len(df_ad2))"
   ]
  },
  {
   "cell_type": "code",
   "execution_count": 13,
   "id": "hungarian-special",
   "metadata": {},
   "outputs": [
    {
     "name": "stdout",
     "output_type": "stream",
     "text": [
      "1.0 [7]\n",
      "5.0 [7, 75, 133, 42, 15]\n",
      "10.0 [7, 75, 133, 42, 15, 68, 30, 153, 344, 18]\n",
      "14.0 [7, 75, 133, 42, 15, 68, 30, 153, 344, 18, 902, 244, 273, 2]\n",
      "16.0 [7, 75, 133, 42, 15, 68, 30, 153, 344, 18, 902, 244, 273, 2, 1095, 1]\n",
      "21.0 [7, 75, 133, 42, 15, 68, 30, 153, 344, 18, 902, 244, 273, 2, 1095, 1, 108, 21, 399, 69, 1]\n",
      "22.0 [7, 75, 133, 42, 15, 68, 30, 153, 344, 18, 902, 244, 273, 2, 1095, 1, 108, 21, 399, 69, 1, 6]\n"
     ]
    },
    {
     "data": {
      "text/plain": [
       "[<matplotlib.lines.Line2D at 0x2a538baff70>]"
      ]
     },
     "execution_count": 13,
     "metadata": {},
     "output_type": "execute_result"
    },
    {
     "data": {
      "image/png": "[encoded data removed]",
      "text/plain": [
       "<Figure size 432x288 with 1 Axes>"
      ]
     },
     "metadata": {
      "needs_background": "light"
     },
     "output_type": "display_data"
    }
   ],
   "source": [
    "x = []\n",
    "y = []\n",
    "\n",
    "for i in np.arange(df['FA ab para'].max()):\n",
    "    df_ad1 = df[df['FA ab para'] == i]\n",
    "    if len(df_ad1) > 0:\n",
    "#         print(i, len(df_ad1), len(df_ad1[df_ad1['Tod']==1]) / len(df_ad1))\n",
    "        x.append(i)\n",
    "        y.append(len(df_ad1))\n",
    "        if (len(df_ad1) < 20):\n",
    "            print(i, y)\n",
    "plt.plot(x, y,'x')"
   ]
  },
  {
   "cell_type": "code",
   "execution_count": 90,
   "id": "wooden-meaning",
   "metadata": {},
   "outputs": [
    {
     "data": {
      "text/plain": [
       "[<matplotlib.lines.Line2D at 0x2883c24b0d0>]"
      ]
     },
     "execution_count": 90,
     "metadata": {},
     "output_type": "execute_result"
    },
    {
     "data": {
      "image/png": "[encoded data removed]",
      "text/plain": [
       "<Figure size 432x288 with 1 Axes>"
      ]
     },
     "metadata": {
      "needs_background": "light"
     },
     "output_type": "display_data"
    }
   ],
   "source": [
    "x = []\n",
    "y = []\n",
    "\n",
    "for i in np.arange(df['FA ab para'].max()):\n",
    "    df_ad1 = df[df['FA ab para'] == i]\n",
    "    if len(df_ad1) > 0:\n",
    "#         print(i, len(df_ad1), len(df_ad1[df_ad1['Tod']==1]) / len(df_ad1))\n",
    "        x.append(i)\n",
    "        y.append(len(df_ad1[df_ad1['Tod']==1]) / len(df_ad1))\n",
    "        \n",
    "plt.plot(x, y,'x')"
   ]
  },
  {
   "cell_type": "code",
   "execution_count": 88,
   "id": "confident-munich",
   "metadata": {},
   "outputs": [
    {
     "data": {
      "text/plain": [
       "array([19., 11.,  2., 12.,  4., 13., 15., 18., 23., 24.,  9.,  8.,  3.,\n",
       "       20.,  6.,  7., 17., 21., 22.,  5., 16., 14., 10.,  1.])"
      ]
     },
     "execution_count": 88,
     "metadata": {},
     "output_type": "execute_result"
    },
    {
     "data": {
      "image/png": "[encoded data removed]",
      "text/plain": [
       "<Figure size 432x288 with 1 Axes>"
      ]
     },
     "metadata": {
      "needs_background": "light"
     },
     "output_type": "display_data"
    }
   ],
   "source": [
    "fa_set = df['FA ab para'].unique()\n",
    "age_mean = np.array([df[df['FA ab para']==i]['AGE'].mean() for i in fa_set])\n",
    "plt.plot(fa_set, age_mean, 'x')\n",
    "fa_set"
   ]
  },
  {
   "cell_type": "code",
   "execution_count": 87,
   "id": "registered-northern",
   "metadata": {},
   "outputs": [],
   "source": [
    "fa_set"
   ]
  },
  {
   "cell_type": "code",
   "execution_count": 62,
   "id": "returning-mainstream",
   "metadata": {},
   "outputs": [
    {
     "data": {
      "text/plain": [
       "[<matplotlib.lines.Line2D at 0x28839c01220>]"
      ]
     },
     "execution_count": 62,
     "metadata": {},
     "output_type": "execute_result"
    },
    {
     "data": {
      "image/png": "[encoded data removed]",
      "text/plain": [
       "<Figure size 432x288 with 1 Axes>"
      ]
     },
     "metadata": {
      "needs_background": "light"
     },
     "output_type": "display_data"
    }
   ],
   "source": [
    "x= []\n",
    "y=[]\n",
    "gap = 10\n",
    "for i in np.arange(0,100,gap):\n",
    "    df_ad1 = df[(df['AGE'] >= i) & (df['AGE'] < i+gap) &  (df['Admission type 2'] == 1)]\n",
    "    if len(df_ad1) > 0:\n",
    "#         print(i, len(df_ad1), len(df_ad1[df_ad1['Tod']==1]) / len(df_ad1))\n",
    "        x.append(str(i))\n",
    "        y.append(len(df_ad1[df_ad1['Tod']==1]) / len(df_ad1))\n",
    "        \n",
    "plt.plot(x, y, 'yx')\n",
    "\n",
    "x= []\n",
    "y=[]\n",
    "for i in np.arange(0,100,gap):\n",
    "    df_ad1 = df[(df['AGE'] >= i) & (df['AGE'] < i+gap) &  (df['Admission type 2'] == 2)]\n",
    "    if len(df_ad1) > 0:\n",
    "#         print(i, len(df_ad1), len(df_ad1[df_ad1['Tod']==1]) / len(df_ad1))\n",
    "        x.append(str(i))\n",
    "        y.append(len(df_ad1[df_ad1['Tod']==1]) / len(df_ad1))\n",
    "        \n",
    "plt.plot(x, y, 'gx')\n",
    "\n",
    "x= []\n",
    "y=[]\n",
    "for i in np.arange(0,100,gap):\n",
    "    df_ad1 = df[(df['AGE'] >= i) & (df['AGE'] < i+gap)]\n",
    "    if len(df_ad1) > 0:\n",
    "#         print(i, len(df_ad1), len(df_ad1[df_ad1['Tod']==1]) / len(df_ad1))\n",
    "        x.append(str(i))\n",
    "        y.append(len(df_ad1[df_ad1['Tod']==1]) / len(df_ad1))\n",
    "        \n",
    "plt.plot(x, y)"
   ]
  },
  {
   "cell_type": "code",
   "execution_count": 95,
   "id": "orange-execution",
   "metadata": {},
   "outputs": [
    {
     "name": "stdout",
     "output_type": "stream",
     "text": [
      "0.0750905279207166\n",
      "0.1111111111111111\n"
     ]
    },
    {
     "data": {
      "text/plain": [
       "[<matplotlib.lines.Line2D at 0x2883c22abe0>]"
      ]
     },
     "execution_count": 95,
     "metadata": {},
     "output_type": "execute_result"
    },
    {
     "data": {
      "image/png": "[encoded data removed]",
      "text/plain": [
       "<Figure size 432x288 with 1 Axes>"
      ]
     },
     "metadata": {
      "needs_background": "light"
     },
     "output_type": "display_data"
    }
   ],
   "source": [
    "df_ad1 = df[df['Transferred'] == 0]\n",
    "df_ad2 = df[df['Transferred'] == 1]\n",
    "\n",
    "print(len(df_ad1[df_ad1['Tod']==1]) / len(df_ad1))\n",
    "print(len(df_ad2[df_ad2['Tod']==1]) / len(df_ad2))\n",
    "\n",
    "x= []\n",
    "y=[]\n",
    "gap = 10\n",
    "for i in np.arange(0,100,gap):\n",
    "    df_ad1 = df[(df['AGE'] >= i) & (df['AGE'] < i+gap) &  (df['Transferred'] == 1)]\n",
    "    if len(df_ad1) > 0:\n",
    "#         print(i, len(df_ad1), len(df_ad1[df_ad1['Tod']==1]) / len(df_ad1))\n",
    "        x.append(i)\n",
    "        y.append(len(df_ad1[df_ad1['Tod']==1]) / len(df_ad1))\n",
    "        \n",
    "plt.plot(x, y, 'yx')\n",
    "\n",
    "x= []\n",
    "y=[]\n",
    "for i in np.arange(0,100,gap):\n",
    "    df_ad1 = df[(df['AGE'] >= i) & (df['AGE'] < i+gap) &  (df['Transferred'] == 0)]\n",
    "    if len(df_ad1) > 0:\n",
    "#         print(i, len(df_ad1), len(df_ad1[df_ad1['Tod']==1]) / len(df_ad1))\n",
    "        x.append(i)\n",
    "        y.append(len(df_ad1[df_ad1['Tod']==1]) / len(df_ad1))\n",
    "        \n",
    "plt.plot(x, y, 'gx')\n",
    "\n",
    "x= []\n",
    "y=[]\n",
    "for i in np.arange(0,100,gap):\n",
    "    df_ad1 = df[(df['AGE'] >= i) & (df['AGE'] < i+gap)]\n",
    "    if len(df_ad1) > 0:\n",
    "#         print(i, len(df_ad1), len(df_ad1[df_ad1['Tod']==1]) / len(df_ad1))\n",
    "        x.append(i)\n",
    "        y.append(len(df_ad1[df_ad1['Tod']==1]) / len(df_ad1))\n",
    "        \n",
    "plt.plot(x, y)"
   ]
  },
  {
   "cell_type": "code",
   "execution_count": 115,
   "id": "colonial-apple",
   "metadata": {},
   "outputs": [
    {
     "name": "stdout",
     "output_type": "stream",
     "text": [
      "0.06772009029345373\n",
      "0.16143497757847533\n"
     ]
    },
    {
     "data": {
      "text/plain": [
       "<BarContainer object of 2 artists>"
      ]
     },
     "execution_count": 115,
     "metadata": {},
     "output_type": "execute_result"
    },
    {
     "data": {
      "image/png": "[encoded data removed]",
      "text/plain": [
       "<Figure size 432x288 with 1 Axes>"
      ]
     },
     "metadata": {
      "needs_background": "light"
     },
     "output_type": "display_data"
    }
   ],
   "source": [
    "df_firstadmit = df[df['No. of times sent to ICU'] == 1] \n",
    "df_readmit = df[df['No. of times sent to ICU'] > 1]\n",
    "print(df_firstadmit['Tod'].sum() / len(df_firstadmit))\n",
    "print(df_readmit['Tod'].sum() / len(df_readmit))\n",
    "\n",
    "plt.bar(['First time', 'Re-admission'], [df_firstadmit['Tod'].sum() / len(df_firstadmit), df_readmit['Tod'].sum() / len(df_readmit)] )"
   ]
  },
  {
   "cell_type": "code",
   "execution_count": 121,
   "id": "integrated-antigua",
   "metadata": {},
   "outputs": [
    {
     "name": "stdout",
     "output_type": "stream",
     "text": [
      "2.347043102466068\n",
      "2.3475580818781423\n"
     ]
    }
   ],
   "source": [
    "df_ad1 = df[df['Admission type 2'] == 1]\n",
    "df_ad2 = df[df['Admission type 2'] == 2]\n",
    "\n",
    "print(df_ad1['LOS (Days)'].mean())\n",
    "print(df_ad2['LOS (Days)'].mean())"
   ]
  },
  {
   "cell_type": "code",
   "execution_count": 122,
   "id": "legitimate-acting",
   "metadata": {},
   "outputs": [
    {
     "data": {
      "text/plain": [
       "[<matplotlib.lines.Line2D at 0x2883e8b8490>]"
      ]
     },
     "execution_count": 122,
     "metadata": {},
     "output_type": "execute_result"
    },
    {
     "data": {
      "image/png": "[encoded data removed]",
      "text/plain": [
       "<Figure size 432x288 with 1 Axes>"
      ]
     },
     "metadata": {
      "needs_background": "light"
     },
     "output_type": "display_data"
    }
   ],
   "source": [
    "x = []\n",
    "y = []\n",
    "\n",
    "for i in np.arange(df['FA ab para'].max()):\n",
    "    df_ad1 = df[df['FA ab para'] == i]\n",
    "    if len(df_ad1) > 0:\n",
    "#         print(i, len(df_ad1), len(df_ad1[df_ad1['Tod']==1]) / len(df_ad1))\n",
    "        x.append(i)\n",
    "        y.append(df_ad1['LOS (Days)'].mean())\n",
    "        \n",
    "plt.plot(x, y,'x')"
   ]
  },
  {
   "cell_type": "code",
   "execution_count": 124,
   "id": "focal-object",
   "metadata": {},
   "outputs": [
    {
     "data": {
      "text/plain": [
       "392     22.615278\n",
       "1134     8.693750\n",
       "1754    11.872917\n",
       "1755     5.800000\n",
       "1991    20.825694\n",
       "2415    20.459722\n",
       "3138    16.696528\n",
       "3201    13.596528\n",
       "3447     1.870139\n",
       "3645     4.626389\n",
       "3646     0.079861\n",
       "4667    15.777778\n",
       "4671    22.198611\n",
       "4810    28.966667\n",
       "4979    12.759028\n",
       "Name: LOS (Days), dtype: float64"
      ]
     },
     "execution_count": 124,
     "metadata": {},
     "output_type": "execute_result"
    }
   ],
   "source": [
    "df[df['FA ab para'] == 5]['LOS (Days)']"
   ]
  },
  {
   "cell_type": "code",
   "execution_count": 120,
   "id": "completed-bobby",
   "metadata": {},
   "outputs": [
    {
     "data": {
      "text/plain": [
       "[<matplotlib.lines.Line2D at 0x2883e85eb20>]"
      ]
     },
     "execution_count": 120,
     "metadata": {},
     "output_type": "execute_result"
    },
    {
     "data": {
      "image/png": "[encoded data removed]",
      "text/plain": [
       "<Figure size 432x288 with 1 Axes>"
      ]
     },
     "metadata": {
      "needs_background": "light"
     },
     "output_type": "display_data"
    }
   ],
   "source": [
    "x= []\n",
    "y=[]\n",
    "gap = 10\n",
    "for i in np.arange(0,100,gap):\n",
    "    df_ad1 = df[(df['AGE'] >= i) & (df['AGE'] < i+gap)]\n",
    "    if len(df_ad1) > 0:\n",
    "#         print(i, len(df_ad1), len(df_ad1[df_ad1['Tod']==1]) / len(df_ad1))\n",
    "        x.append(i)\n",
    "        y.append(df_ad1['LOS (Days)'].mean())\n",
    "        \n",
    "plt.plot(x, y)"
   ]
  }
 ],
 "metadata": {
  "kernelspec": {
   "display_name": "Python 3",
   "language": "python",
   "name": "python3"
  },
  "language_info": {
   "codemirror_mode": {
    "name": "ipython",
    "version": 3
   },
   "file_extension": ".py",
   "mimetype": "text/x-python",
   "name": "python",
   "nbconvert_exporter": "python",
   "pygments_lexer": "ipython3",
   "version": "3.8.5"
  }
 },
 "nbformat": 4,
 "nbformat_minor": 5
}
