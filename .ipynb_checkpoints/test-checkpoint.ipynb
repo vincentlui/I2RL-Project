{
 "cells": [
  {
   "cell_type": "code",
   "execution_count": 1,
   "id": "humanitarian-myrtle",
   "metadata": {},
   "outputs": [],
   "source": [
    "import numpy as np\n",
    "from env.Environment import Environment, State\n",
    "\n",
    "%load_ext autoreload\n",
    "%autoreload 2"
   ]
  },
  {
   "cell_type": "code",
   "execution_count": 4,
   "id": "inside-compression",
   "metadata": {},
   "outputs": [],
   "source": [
    "num_bed = 20\n",
    "num_class = 5"
   ]
  },
  {
   "cell_type": "code",
   "execution_count": 9,
   "id": "passing-pleasure",
   "metadata": {},
   "outputs": [
    {
     "name": "stdout",
     "output_type": "stream",
     "text": [
      "(0, 21)\n",
      "(0, 22)\n",
      "(0, 23)\n",
      "(0, 24)\n",
      "(0, 25)\n",
      "(0, 26)\n",
      "(0, 27)\n",
      "(0, 28)\n",
      "(0, 29)\n",
      "(0, 30)\n",
      "(0, 31)\n",
      "(0, 32)\n",
      "(0, 33)\n",
      "(0, 34)\n",
      "(0, 35)\n"
     ]
    },
    {
     "data": {
      "text/plain": [
       "array([], shape=(0, 36), dtype=int32)"
      ]
     },
     "execution_count": 9,
     "metadata": {},
     "output_type": "execute_result"
    }
   ],
   "source": [
    "p_arrive = [0.8988013698630137, 0.012994672754946727, 0.01293759512937595, 0.01221461187214612, 0.013032724505327244, 0.013089802130898021, 0.011910197869101979, 0.012271689497716894, 0.012747336377473363]\n",
    "p_leave = [0.010825796872474158, 0.0038442559604472373, 0.00335442100653245, 0.0027426663004428303, 0.0026808956939254076, 0.0026285227575753496, 0.002433672892274736, 0.0018672590670831529]\n",
    "delta = [0, 0.00749376480848956, 0.023252303608424292, 0.38966471920753987, 0.1, 0.04492930254495119, 0.019348297623417, 1.1000634771910827, 1.080419000471227]\n",
    "# print(p_arrive, p_leave, delta)\n",
    "env = Environment(num_bed, num_class, p_arrive, p_leave, delta)\n",
    "env.get_all_states()"
   ]
  },
  {
   "cell_type": "code",
   "execution_count": 43,
   "id": "biblical-regression",
   "metadata": {},
   "outputs": [],
   "source": [
    "tmp = np.tile(np.arange(num_bed + 1), (num_class, 1))\n",
    "tmp = np.array(np.meshgrid(*tmp)).T.reshape(-1, num_class)\n",
    "all_x = tmp[tmp.sum(-1) <= num_bed]\n",
    "num_rows = len(all_x)\n",
    "# col_x = np.tile(all_x, (num_class + 1, 1))\n",
    "\n",
    "# all_y = np.arange(num_class + 1)\n",
    "# col_y = np.tile(all_y, (num_rows, 1)).T.reshape(-1, 1)\n",
    "# all_states = np.concatenate((col_x, col_y), axis=-1)"
   ]
  },
  {
   "cell_type": "code",
   "execution_count": 44,
   "id": "raising-endorsement",
   "metadata": {},
   "outputs": [
    {
     "data": {
      "text/plain": [
       "53130"
      ]
     },
     "execution_count": 44,
     "metadata": {},
     "output_type": "execute_result"
    }
   ],
   "source": [
    "num_rows"
   ]
  },
  {
   "cell_type": "code",
   "execution_count": 47,
   "id": "developed-stereo",
   "metadata": {},
   "outputs": [
    {
     "name": "stdout",
     "output_type": "stream",
     "text": [
      "(18648630, 7)\n"
     ]
    },
    {
     "data": {
      "text/plain": [
       "(3108105, 8)"
      ]
     },
     "execution_count": 47,
     "metadata": {},
     "output_type": "execute_result"
    }
   ],
   "source": [
    "tmp = np.tile(all_x, (num_bed+1,1))\n",
    "print(tmp.shape)\n",
    "tmp2 = np.tile(np.arange(num_bed + 1), (len(all_x), 1)).T.reshape(-1,1)\n",
    "tmp = np.concatenate([tmp,tmp2], axis=-1)\n",
    "all_x = tmp[tmp.sum(-1) <= num_bed]\n",
    "all_x.shape"
   ]
  },
  {
   "cell_type": "code",
   "execution_count": null,
   "id": "social-olive",
   "metadata": {},
   "outputs": [],
   "source": []
  }
 ],
 "metadata": {
  "kernelspec": {
   "display_name": "Python 3",
   "language": "python",
   "name": "python3"
  },
  "language_info": {
   "codemirror_mode": {
    "name": "ipython",
    "version": 3
   },
   "file_extension": ".py",
   "mimetype": "text/x-python",
   "name": "python",
   "nbconvert_exporter": "python",
   "pygments_lexer": "ipython3",
   "version": "3.8.5"
  }
 },
 "nbformat": 4,
 "nbformat_minor": 5
}
