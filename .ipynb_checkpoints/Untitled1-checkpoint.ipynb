{
 "cells": [
  {
   "cell_type": "code",
   "execution_count": 43,
   "id": "varied-astrology",
   "metadata": {},
   "outputs": [
    {
     "name": "stdout",
     "output_type": "stream",
     "text": [
      "The autoreload extension is already loaded. To reload it, use:\n",
      "  %reload_ext autoreload\n"
     ]
    }
   ],
   "source": [
    "import torch\n",
    "from network.network import PatientGroupNet, PatientClassificationNet\n",
    "from env.Environment import Environment, State\n",
    "from algo.algo import ValueIterationRL\n",
    "import numpy as np\n",
    "from datetime import datetime, timedelta\n",
    "import matplotlib.pyplot as plt\n",
    "from scipy.stats import binom\n",
    "from operator import itemgetter\n",
    "import pickle\n",
    "from tqdm import tqdm\n",
    "from scipy.sparse import csr_matrix, lil_matrix\n",
    "\n",
    "%load_ext autoreload\n",
    "%autoreload 2"
   ]
  },
  {
   "cell_type": "code",
   "execution_count": 2,
   "id": "green-hotel",
   "metadata": {},
   "outputs": [],
   "source": [
    "num_class = 3\n",
    "num_bed = 5"
   ]
  },
  {
   "cell_type": "code",
   "execution_count": 2,
   "id": "handled-diana",
   "metadata": {},
   "outputs": [
    {
     "data": {
      "text/plain": [
       "<All keys matched successfully>"
      ]
     },
     "execution_count": 2,
     "metadata": {},
     "output_type": "execute_result"
    }
   ],
   "source": [
    "class_boundary = torch.Tensor([0.0307, 0.0739, 0.5403])\n",
    "temp = PatientClassificationNet(21, 256)\n",
    "net = PatientGroupNet(temp, class_boundary)\n",
    "PATH = './model/patient_group_net.pth'\n",
    "net.load_state_dict(torch.load(PATH))"
   ]
  },
  {
   "cell_type": "code",
   "execution_count": 26,
   "id": "immune-roots",
   "metadata": {},
   "outputs": [
    {
     "name": "stderr",
     "output_type": "stream",
     "text": [
      " 53%|█████████████████████████████████████████                                     | 118/224 [00:00<00:00, 1179.96it/s]"
     ]
    },
    {
     "name": "stdout",
     "output_type": "stream",
     "text": [
      "[0.8988013698630137, 0.03428462709284627, 0.033124048706240486, 0.033789954337899546] [0.004840211050458675, 0.0027168205150162423, 0.0022594970770339266] [0, 0.08047585987623804, 0.057094655130521615, 0.7987205662123528]\n",
      "Total states: 224\n",
      "Calculating dynamics...\n"
     ]
    },
    {
     "name": "stderr",
     "output_type": "stream",
     "text": [
      "100%|██████████████████████████████████████████████████████████████████████████████| 224/224 [00:00<00:00, 1066.67it/s]\n",
      " 53%|█████████████████████████████████████████▊                                     | 53/100 [00:00<00:00, 1204.33it/s]"
     ]
    },
    {
     "name": "stdout",
     "output_type": "stream",
     "text": [
      "Calculating dynamics... finished\n",
      "Value iteration starts\n",
      "Value iteration finished in iter 54\n"
     ]
    },
    {
     "name": "stderr",
     "output_type": "stream",
     "text": [
      "\n"
     ]
    }
   ],
   "source": [
    "p_arrive = [0.8988013698630137, 0.03428462709284627, 0.033124048706240486, 0.033789954337899546]\n",
    "p_leave =[0.004840211050458675, 0.0027168205150162423, 0.0022594970770339266]\n",
    "delta = [0, 0.08047585987623804, 0.057094655130521615, 0.7987205662123528]\n",
    "print(p_arrive, p_leave, delta)\n",
    "env = Environment(3, 5, p_arrive, p_leave, delta)\n",
    "x = env.calc_dynamics()\n",
    "rl = ValueIterationRL(env)\n",
    "x,a = rl.value_iteration()"
   ]
  },
  {
   "cell_type": "code",
   "execution_count": 29,
   "id": "preliminary-contamination",
   "metadata": {},
   "outputs": [
    {
     "data": {
      "text/plain": [
       "1568.0"
      ]
     },
     "execution_count": 29,
     "metadata": {},
     "output_type": "execute_result"
    }
   ],
   "source": [
    "# env.best_action(State([2,2,1], 1, 5))\n",
    "env.trans_matrix.nbytes/1024"
   ]
  },
  {
   "cell_type": "code",
   "execution_count": 79,
   "id": "color-affiliate",
   "metadata": {},
   "outputs": [],
   "source": [
    "filename = './log/env.pkl'\n",
    "with open(filename, 'wb') as output:\n",
    "    pickle.dump(env, output, pickle.HIGHEST_PROTOCOL)"
   ]
  },
  {
   "cell_type": "code",
   "execution_count": 69,
   "id": "official-biotechnology",
   "metadata": {},
   "outputs": [
    {
     "data": {
      "text/plain": [
       "3"
      ]
     },
     "execution_count": 69,
     "metadata": {},
     "output_type": "execute_result"
    }
   ],
   "source": [
    "a = [1,2,3]\n",
    "a[-1]"
   ]
  },
  {
   "cell_type": "code",
   "execution_count": 70,
   "id": "naked-large",
   "metadata": {},
   "outputs": [
    {
     "name": "stderr",
     "output_type": "stream",
     "text": [
      "100%|████████████████████████████████████████████████████████████████████████████████| 30/30 [00:00<00:00, 1389.92it/s]"
     ]
    },
    {
     "name": "stdout",
     "output_type": "stream",
     "text": [
      "Total states: 30\n",
      "Calculating dynamics...\n",
      "Calculating dynamics... finished\n"
     ]
    },
    {
     "name": "stderr",
     "output_type": "stream",
     "text": [
      "\n"
     ]
    }
   ],
   "source": [
    "env = Environment(2, 3, p_arrive, p_leave, delta)\n",
    "env.calc_dynamics_sparse()"
   ]
  },
  {
   "cell_type": "code",
   "execution_count": null,
   "id": "daily-accent",
   "metadata": {},
   "outputs": [],
   "source": [
    "print(env.trans_matrix[0].toarray())"
   ]
  },
  {
   "cell_type": "code",
   "execution_count": null,
   "id": "artistic-religion",
   "metadata": {},
   "outputs": [],
   "source": []
  }
 ],
 "metadata": {
  "kernelspec": {
   "display_name": "Python 3",
   "language": "python",
   "name": "python3"
  },
  "language_info": {
   "codemirror_mode": {
    "name": "ipython",
    "version": 3
   },
   "file_extension": ".py",
   "mimetype": "text/x-python",
   "name": "python",
   "nbconvert_exporter": "python",
   "pygments_lexer": "ipython3",
   "version": "3.8.5"
  }
 },
 "nbformat": 4,
 "nbformat_minor": 5
}
