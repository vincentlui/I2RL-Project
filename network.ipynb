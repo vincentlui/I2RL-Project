{
 "cells": [
  {
   "cell_type": "code",
   "execution_count": 1,
   "id": "aggressive-continuity",
   "metadata": {},
   "outputs": [],
   "source": [
    "import torch\n",
    "import numpy as np\n",
    "import pandas as pd\n",
    "import torch.nn as nn\n",
    "import torch.nn.functional as F\n",
    "from torch.utils.data import DataLoader, TensorDataset\n",
    "import torch.optim as optim"
   ]
  },
  {
   "cell_type": "code",
   "execution_count": 2,
   "id": "lovely-doctrine",
   "metadata": {},
   "outputs": [],
   "source": [
    "df = pd.read_excel (r'data.xlsx')"
   ]
  },
  {
   "cell_type": "code",
   "execution_count": 3,
   "id": "exposed-variable",
   "metadata": {},
   "outputs": [],
   "source": [
    "df = df[~df['Fallnummer'].isnull()]"
   ]
  },
  {
   "cell_type": "code",
   "execution_count": 4,
   "id": "verbal-philip",
   "metadata": {},
   "outputs": [],
   "source": [
    "class PatientClassificationNet(nn.Module):\n",
    "    def __init__(self, input_dim, hidden_size, activation=torch.relu):\n",
    "        super(PatientClassificationNet, self).__init__()\n",
    "        self.fc1 = nn.Linear(input_dim, hidden_size)\n",
    "        self.activation = activation\n",
    "        self.fc2 = nn.Linear(hidden_size, hidden_size)\n",
    "        self.fc3 = nn.Linear(hidden_size, 1)\n",
    "\n",
    "    def forward(self, x):\n",
    "        x = self.activation(self.fc1(x))\n",
    "        x = self.activation(self.fc2(x))\n",
    "        x = self.fc3(x)\n",
    "        x = torch.sigmoid(x)\n",
    "        return x"
   ]
  },
  {
   "cell_type": "code",
   "execution_count": 5,
   "id": "thorough-portland",
   "metadata": {},
   "outputs": [],
   "source": [
    "X = df.loc[:,['AGE','Admission type 2','No. of times sent to ICU','FA ab para']]\n",
    "X['FA ab para'] = X['FA ab para'].replace([1,5, 10, 14, 16, 21, 22], X['FA ab para'].max()+1)\n",
    "X = torch.Tensor(X.to_numpy())\n",
    "fa_val = X[:, 3].unique()\n",
    "tmp = X[:,3].unsqueeze(1).expand((-1,len(fa_val))) == fa_val\n",
    "X = torch.cat((X[:, :3], tmp.float()), dim=1)\n",
    "X[:,2] = (X[:,2] > 1 )\n",
    "X = (X - X.mean(0)) / X.std(0)\n",
    "\n",
    "Y = df.loc[:,['Tod']]\n",
    "Y = torch.Tensor(Y.to_numpy())\n",
    "\n",
    "num_feature = X.shape[-1]"
   ]
  },
  {
   "cell_type": "code",
   "execution_count": 6,
   "id": "broke-necessity",
   "metadata": {},
   "outputs": [],
   "source": [
    "num_train = int(len(X) * 0.8)\n",
    "shuffle_indices = np.arange(len(X))\n",
    "np.random.seed(6)\n",
    "np.random.shuffle(shuffle_indices)\n",
    "X_train = X[shuffle_indices][:num_train]\n",
    "y_train = Y[shuffle_indices][:num_train]\n",
    "X_test = X[shuffle_indices][num_train:]\n",
    "y_test = Y[shuffle_indices][num_train:]\n",
    "dataset_train = TensorDataset(X_train, y_train)\n",
    "dataset_test = TensorDataset(X_test, y_test)\n",
    "trainloader = DataLoader(dataset_train, batch_size=128, shuffle=True)\n",
    "testloader = DataLoader(dataset_test, batch_size=128, shuffle=True)"
   ]
  },
  {
   "cell_type": "code",
   "execution_count": 7,
   "id": "appointed-volunteer",
   "metadata": {},
   "outputs": [
    {
     "data": {
      "text/plain": [
       "tensor(320.)"
      ]
     },
     "execution_count": 7,
     "metadata": {},
     "output_type": "execute_result"
    }
   ],
   "source": [
    "y_train.sum()"
   ]
  },
  {
   "cell_type": "code",
   "execution_count": 8,
   "id": "pressing-print",
   "metadata": {},
   "outputs": [],
   "source": [
    "threshold = y_train.nonzero().size(0)/num_train"
   ]
  },
  {
   "cell_type": "code",
   "execution_count": 9,
   "id": "spread-albania",
   "metadata": {},
   "outputs": [],
   "source": [
    "def train(net, trainloader, testloader, epoch=5):\n",
    "    criterion = nn.BCELoss()\n",
    "    optimizer = optim.SGD(net.parameters(), lr=0.003, momentum=0.9, weight_decay=1e-6)\n",
    "    for epoch in range(epoch):\n",
    "        total_loss = 0\n",
    "        net.train()\n",
    "        for i, data in enumerate(trainloader):\n",
    "            inputs, labels = data\n",
    "            optimizer.zero_grad()\n",
    "            outputs = net(inputs)\n",
    "            loss = criterion(outputs, labels)\n",
    "#             print(loss)\n",
    "            loss.backward()\n",
    "            optimizer.step()\n",
    "            total_loss += loss\n",
    "        \n",
    "        net.eval()\n",
    "        correct_true = 0\n",
    "        predicted_true = 0\n",
    "        target_true = 0\n",
    "        total = 0\n",
    "        for i, data in enumerate(testloader):\n",
    "            inputs, labels = data\n",
    "            outputs = net(inputs)\n",
    "            prediction = outputs > threshold\n",
    "            correct_true += ((prediction==1) * (labels==1)).sum().item()\n",
    "            target_true += labels.sum().item()\n",
    "            predicted_true += prediction.sum().item()\n",
    "            total += labels.size(0)\n",
    "        recall = correct_true / target_true\n",
    "        precision = correct_true / predicted_true\n",
    "        f1_score = 2 * precision * recall / (precision + recall)\n",
    "        print(f'epoch {epoch}: recall: {recall} precision: {precision} f1_score: {f1_score} loss:{total_loss}')\n",
    "    \n",
    "        "
   ]
  },
  {
   "cell_type": "code",
   "execution_count": 10,
   "id": "indirect-armstrong",
   "metadata": {},
   "outputs": [],
   "source": [
    "net = PatientClassificationNet(num_feature,256)"
   ]
  },
  {
   "cell_type": "code",
   "execution_count": 11,
   "id": "tropical-ethnic",
   "metadata": {},
   "outputs": [
    {
     "name": "stdout",
     "output_type": "stream",
     "text": [
      "epoch 0: recall: 0.8170731707317073 precision: 0.0694300518134715 f1_score: 0.12798471824259788 loss:17.13467788696289\n",
      "epoch 1: recall: 0.6585365853658537 precision: 0.06553398058252427 f1_score: 0.11920529801324503 loss:10.660049438476562\n",
      "epoch 2: recall: 0.6585365853658537 precision: 0.06758448060075094 f1_score: 0.12258796821793416 loss:9.973088264465332\n",
      "epoch 3: recall: 0.7317073170731707 precision: 0.07453416149068323 f1_score: 0.13528748590755355 loss:9.926959991455078\n",
      "epoch 4: recall: 0.7317073170731707 precision: 0.07371007371007371 f1_score: 0.13392857142857142 loss:9.246274948120117\n",
      "epoch 5: recall: 0.7317073170731707 precision: 0.07731958762886598 f1_score: 0.13986013986013987 loss:8.995627403259277\n",
      "epoch 6: recall: 0.8414634146341463 precision: 0.09465020576131687 f1_score: 0.17016029593094945 loss:9.025060653686523\n",
      "epoch 7: recall: 0.8658536585365854 precision: 0.10502958579881656 f1_score: 0.18733509234828494 loss:8.584692001342773\n",
      "epoch 8: recall: 0.8536585365853658 precision: 0.11217948717948718 f1_score: 0.19830028328611898 loss:8.486616134643555\n",
      "epoch 9: recall: 0.7560975609756098 precision: 0.1169811320754717 f1_score: 0.20261437908496732 loss:8.53007984161377\n",
      "epoch 10: recall: 0.7682926829268293 precision: 0.11753731343283583 f1_score: 0.2038834951456311 loss:8.374143600463867\n",
      "epoch 11: recall: 0.7439024390243902 precision: 0.13062098501070663 f1_score: 0.2222222222222222 loss:8.24059772491455\n",
      "epoch 12: recall: 0.6951219512195121 precision: 0.12555066079295155 f1_score: 0.21268656716417914 loss:8.094443321228027\n",
      "epoch 13: recall: 0.6951219512195121 precision: 0.13225058004640372 f1_score: 0.2222222222222222 loss:8.209149360656738\n",
      "epoch 14: recall: 0.6951219512195121 precision: 0.13507109004739337 f1_score: 0.2261904761904762 loss:8.093242645263672\n",
      "epoch 15: recall: 0.6829268292682927 precision: 0.1407035175879397 f1_score: 0.23333333333333334 loss:8.034231185913086\n",
      "epoch 16: recall: 0.6829268292682927 precision: 0.14470284237726097 f1_score: 0.23880597014925373 loss:8.126054763793945\n",
      "epoch 17: recall: 0.6829268292682927 precision: 0.13793103448275862 f1_score: 0.22950819672131148 loss:7.9834065437316895\n",
      "epoch 18: recall: 0.6829268292682927 precision: 0.15053763440860216 f1_score: 0.24669603524229075 loss:8.010787963867188\n",
      "epoch 19: recall: 0.6829268292682927 precision: 0.14177215189873418 f1_score: 0.2348008385744235 loss:7.944221496582031\n",
      "epoch 20: recall: 0.6707317073170732 precision: 0.14473684210526316 f1_score: 0.2380952380952381 loss:7.900003433227539\n",
      "epoch 21: recall: 0.6707317073170732 precision: 0.14511873350923482 f1_score: 0.23861171366594358 loss:7.943217754364014\n",
      "epoch 22: recall: 0.6707317073170732 precision: 0.13994910941475827 f1_score: 0.23157894736842105 loss:7.929462909698486\n",
      "epoch 23: recall: 0.6707317073170732 precision: 0.14511873350923482 f1_score: 0.23861171366594358 loss:7.887064456939697\n",
      "epoch 24: recall: 0.6707317073170732 precision: 0.14588859416445624 f1_score: 0.23965141612200436 loss:8.034475326538086\n"
     ]
    }
   ],
   "source": [
    "train(net, trainloader, testloader, epoch=25)"
   ]
  },
  {
   "cell_type": "code",
   "execution_count": 12,
   "id": "frequent-syndicate",
   "metadata": {},
   "outputs": [],
   "source": [
    "correct_true = 0\n",
    "predicted_true = 0\n",
    "target_true = 0\n",
    "total = 0\n",
    "for i, data in enumerate(testloader):\n",
    "    inputs, labels = data\n",
    "    outputs = net(inputs)\n",
    "    prediction = outputs > threshold\n",
    "    correct_true += ((prediction==1) * (labels==1)).sum().item()\n",
    "    target_true += labels.sum().item()\n",
    "    predicted_true += prediction.sum().item()\n",
    "    total += labels.size(0)\n",
    "recall = correct_true / target_true\n",
    "precision = correct_true / predicted_true\n",
    "f1_score = 2 * precision * recall / (precision + recall)"
   ]
  },
  {
   "cell_type": "code",
   "execution_count": 13,
   "id": "three-recorder",
   "metadata": {},
   "outputs": [
    {
     "name": "stdout",
     "output_type": "stream",
     "text": [
      "0.6707317073170732 0.14588859416445624 0.23965141612200436\n"
     ]
    }
   ],
   "source": [
    "print(recall, precision, f1_score)"
   ]
  },
  {
   "cell_type": "code",
   "execution_count": 14,
   "id": "deluxe-doctrine",
   "metadata": {},
   "outputs": [
    {
     "name": "stdout",
     "output_type": "stream",
     "text": [
      "55 82.0 377\n"
     ]
    }
   ],
   "source": [
    "print(correct_true, target_true, predicted_true)"
   ]
  },
  {
   "cell_type": "code",
   "execution_count": 15,
   "id": "elder-hebrew",
   "metadata": {},
   "outputs": [],
   "source": [
    "outputs = net(X_train)\n",
    "v, _ = outputs.sort(0)\n",
    "num_class = 5\n",
    "class_boundary = torch.Tensor([v[int(num_train/num_class*i-1)] for i in range(1,num_class+1)])"
   ]
  },
  {
   "cell_type": "code",
   "execution_count": 16,
   "id": "fitting-sustainability",
   "metadata": {},
   "outputs": [],
   "source": [
    "out = net(X_train[0:2])\n",
    "comp = out < class_boundary\n",
    "# comp.nonzero()[0].item()\n",
    "comp = 0"
   ]
  },
  {
   "cell_type": "code",
   "execution_count": 17,
   "id": "utility-winning",
   "metadata": {},
   "outputs": [],
   "source": [
    "class PatientGroupNet(nn.Module):\n",
    "    def __init__(self, patient_class_net, class_boundary):\n",
    "        super(PatientGroupNet, self).__init__()\n",
    "        self.patient_class_net = patient_class_net\n",
    "        self.patient_class_net.eval()\n",
    "        self.class_boundary = class_boundary\n",
    "        self.num_class = self.class_boundary.size(0)\n",
    "\n",
    "    def forward(self, x):\n",
    "        x = self.patient_class_net(x)\n",
    "        comp = x < self.class_boundary\n",
    "        return self.num_class - comp.sum(-1) + 1"
   ]
  },
  {
   "cell_type": "code",
   "execution_count": 18,
   "id": "above-underground",
   "metadata": {},
   "outputs": [
    {
     "data": {
      "text/plain": [
       "[tensor(850), tensor(850), tensor(847), tensor(855), tensor(852)]"
      ]
     },
     "execution_count": 18,
     "metadata": {},
     "output_type": "execute_result"
    }
   ],
   "source": [
    "net2 = PatientGroupNet(net, class_boundary)\n",
    "out = net2(X_train)\n",
    "[torch.sum(out == i) for i in range(1, num_class+1)]"
   ]
  },
  {
   "cell_type": "code",
   "execution_count": 19,
   "id": "prescribed-threat",
   "metadata": {},
   "outputs": [
    {
     "data": {
      "text/plain": [
       "[tensor(222), tensor(201), tensor(207), tensor(222), tensor(212)]"
      ]
     },
     "execution_count": 19,
     "metadata": {},
     "output_type": "execute_result"
    }
   ],
   "source": [
    "net2 = PatientGroupNet(net, class_boundary)\n",
    "out = net2(X_test)\n",
    "[torch.sum(out == i) for i in range(1, num_class+1)]"
   ]
  },
  {
   "cell_type": "code",
   "execution_count": 20,
   "id": "corrected-baseball",
   "metadata": {},
   "outputs": [
    {
     "data": {
      "text/plain": [
       "[0.908846193895647,\n",
       " 2.4042633195598833,\n",
       " 2.446816412454714,\n",
       " 2.4399933614471525,\n",
       " 3.5585183423172566]"
      ]
     },
     "execution_count": 20,
     "metadata": {},
     "output_type": "execute_result"
    }
   ],
   "source": [
    "prediction = net2(X).numpy()\n",
    "df['class'] = prediction\n",
    "los_mean = [df[df['class']==i]['LOS (Days)'].mean() for i in range(1,num_class+1)]\n",
    "los_mean"
   ]
  },
  {
   "cell_type": "code",
   "execution_count": 21,
   "id": "functional-article",
   "metadata": {},
   "outputs": [
    {
     "ename": "PermissionError",
     "evalue": "[Errno 13] Permission denied: 'D:\\\\working\\\\I2RL\\\\model'",
     "output_type": "error",
     "traceback": [
      "\u001b[1;31m---------------------------------------------------------------------------\u001b[0m",
      "\u001b[1;31mPermissionError\u001b[0m                           Traceback (most recent call last)",
      "\u001b[1;32m<ipython-input-21-918f59aa5b83>\u001b[0m in \u001b[0;36m<module>\u001b[1;34m\u001b[0m\n\u001b[0;32m      1\u001b[0m \u001b[0mPATH\u001b[0m \u001b[1;33m=\u001b[0m \u001b[1;34m'D:\\working\\I2RL\\model'\u001b[0m\u001b[1;33m\u001b[0m\u001b[1;33m\u001b[0m\u001b[0m\n\u001b[1;32m----> 2\u001b[1;33m \u001b[0mtorch\u001b[0m\u001b[1;33m.\u001b[0m\u001b[0msave\u001b[0m\u001b[1;33m(\u001b[0m\u001b[0mnet\u001b[0m\u001b[1;33m.\u001b[0m\u001b[0mstate_dict\u001b[0m\u001b[1;33m(\u001b[0m\u001b[1;33m)\u001b[0m\u001b[1;33m,\u001b[0m \u001b[0mPATH\u001b[0m\u001b[1;33m)\u001b[0m\u001b[1;33m\u001b[0m\u001b[1;33m\u001b[0m\u001b[0m\n\u001b[0m",
      "\u001b[1;32m~\\Anaconda3\\envs\\i2rl\\lib\\site-packages\\torch\\serialization.py\u001b[0m in \u001b[0;36msave\u001b[1;34m(obj, f, pickle_module, pickle_protocol, _use_new_zipfile_serialization)\u001b[0m\n\u001b[0;32m    325\u001b[0m             \u001b[1;32mreturn\u001b[0m\u001b[1;33m\u001b[0m\u001b[1;33m\u001b[0m\u001b[0m\n\u001b[0;32m    326\u001b[0m \u001b[1;33m\u001b[0m\u001b[0m\n\u001b[1;32m--> 327\u001b[1;33m     \u001b[1;32mwith\u001b[0m \u001b[0m_open_file_like\u001b[0m\u001b[1;33m(\u001b[0m\u001b[0mf\u001b[0m\u001b[1;33m,\u001b[0m \u001b[1;34m'wb'\u001b[0m\u001b[1;33m)\u001b[0m \u001b[1;32mas\u001b[0m \u001b[0mopened_file\u001b[0m\u001b[1;33m:\u001b[0m\u001b[1;33m\u001b[0m\u001b[1;33m\u001b[0m\u001b[0m\n\u001b[0m\u001b[0;32m    328\u001b[0m         \u001b[0m_legacy_save\u001b[0m\u001b[1;33m(\u001b[0m\u001b[0mobj\u001b[0m\u001b[1;33m,\u001b[0m \u001b[0mopened_file\u001b[0m\u001b[1;33m,\u001b[0m \u001b[0mpickle_module\u001b[0m\u001b[1;33m,\u001b[0m \u001b[0mpickle_protocol\u001b[0m\u001b[1;33m)\u001b[0m\u001b[1;33m\u001b[0m\u001b[1;33m\u001b[0m\u001b[0m\n\u001b[0;32m    329\u001b[0m \u001b[1;33m\u001b[0m\u001b[0m\n",
      "\u001b[1;32m~\\Anaconda3\\envs\\i2rl\\lib\\site-packages\\torch\\serialization.py\u001b[0m in \u001b[0;36m_open_file_like\u001b[1;34m(name_or_buffer, mode)\u001b[0m\n\u001b[0;32m    210\u001b[0m \u001b[1;32mdef\u001b[0m \u001b[0m_open_file_like\u001b[0m\u001b[1;33m(\u001b[0m\u001b[0mname_or_buffer\u001b[0m\u001b[1;33m,\u001b[0m \u001b[0mmode\u001b[0m\u001b[1;33m)\u001b[0m\u001b[1;33m:\u001b[0m\u001b[1;33m\u001b[0m\u001b[1;33m\u001b[0m\u001b[0m\n\u001b[0;32m    211\u001b[0m     \u001b[1;32mif\u001b[0m \u001b[0m_is_path\u001b[0m\u001b[1;33m(\u001b[0m\u001b[0mname_or_buffer\u001b[0m\u001b[1;33m)\u001b[0m\u001b[1;33m:\u001b[0m\u001b[1;33m\u001b[0m\u001b[1;33m\u001b[0m\u001b[0m\n\u001b[1;32m--> 212\u001b[1;33m         \u001b[1;32mreturn\u001b[0m \u001b[0m_open_file\u001b[0m\u001b[1;33m(\u001b[0m\u001b[0mname_or_buffer\u001b[0m\u001b[1;33m,\u001b[0m \u001b[0mmode\u001b[0m\u001b[1;33m)\u001b[0m\u001b[1;33m\u001b[0m\u001b[1;33m\u001b[0m\u001b[0m\n\u001b[0m\u001b[0;32m    213\u001b[0m     \u001b[1;32melse\u001b[0m\u001b[1;33m:\u001b[0m\u001b[1;33m\u001b[0m\u001b[1;33m\u001b[0m\u001b[0m\n\u001b[0;32m    214\u001b[0m         \u001b[1;32mif\u001b[0m \u001b[1;34m'w'\u001b[0m \u001b[1;32min\u001b[0m \u001b[0mmode\u001b[0m\u001b[1;33m:\u001b[0m\u001b[1;33m\u001b[0m\u001b[1;33m\u001b[0m\u001b[0m\n",
      "\u001b[1;32m~\\Anaconda3\\envs\\i2rl\\lib\\site-packages\\torch\\serialization.py\u001b[0m in \u001b[0;36m__init__\u001b[1;34m(self, name, mode)\u001b[0m\n\u001b[0;32m    191\u001b[0m \u001b[1;32mclass\u001b[0m \u001b[0m_open_file\u001b[0m\u001b[1;33m(\u001b[0m\u001b[0m_opener\u001b[0m\u001b[1;33m)\u001b[0m\u001b[1;33m:\u001b[0m\u001b[1;33m\u001b[0m\u001b[1;33m\u001b[0m\u001b[0m\n\u001b[0;32m    192\u001b[0m     \u001b[1;32mdef\u001b[0m \u001b[0m__init__\u001b[0m\u001b[1;33m(\u001b[0m\u001b[0mself\u001b[0m\u001b[1;33m,\u001b[0m \u001b[0mname\u001b[0m\u001b[1;33m,\u001b[0m \u001b[0mmode\u001b[0m\u001b[1;33m)\u001b[0m\u001b[1;33m:\u001b[0m\u001b[1;33m\u001b[0m\u001b[1;33m\u001b[0m\u001b[0m\n\u001b[1;32m--> 193\u001b[1;33m         \u001b[0msuper\u001b[0m\u001b[1;33m(\u001b[0m\u001b[0m_open_file\u001b[0m\u001b[1;33m,\u001b[0m \u001b[0mself\u001b[0m\u001b[1;33m)\u001b[0m\u001b[1;33m.\u001b[0m\u001b[0m__init__\u001b[0m\u001b[1;33m(\u001b[0m\u001b[0mopen\u001b[0m\u001b[1;33m(\u001b[0m\u001b[0mname\u001b[0m\u001b[1;33m,\u001b[0m \u001b[0mmode\u001b[0m\u001b[1;33m)\u001b[0m\u001b[1;33m)\u001b[0m\u001b[1;33m\u001b[0m\u001b[1;33m\u001b[0m\u001b[0m\n\u001b[0m\u001b[0;32m    194\u001b[0m \u001b[1;33m\u001b[0m\u001b[0m\n\u001b[0;32m    195\u001b[0m     \u001b[1;32mdef\u001b[0m \u001b[0m__exit__\u001b[0m\u001b[1;33m(\u001b[0m\u001b[0mself\u001b[0m\u001b[1;33m,\u001b[0m \u001b[1;33m*\u001b[0m\u001b[0margs\u001b[0m\u001b[1;33m)\u001b[0m\u001b[1;33m:\u001b[0m\u001b[1;33m\u001b[0m\u001b[1;33m\u001b[0m\u001b[0m\n",
      "\u001b[1;31mPermissionError\u001b[0m: [Errno 13] Permission denied: 'D:\\\\working\\\\I2RL\\\\model'"
     ]
    }
   ],
   "source": [
    "PATH = 'D:\\working\\I2RL\\model\\test'\n",
    "torch.save(net.state_dict(), PATH)"
   ]
  },
  {
   "cell_type": "code",
   "execution_count": 488,
   "id": "disciplinary-guitar",
   "metadata": {},
   "outputs": [
    {
     "data": {
      "text/plain": [
       "tensor([[-1.4988,  1.1154, -0.3025,  ...,  1.9328, -0.1925, -0.0974],\n",
       "        [-0.2893, -0.8964,  3.3051,  ..., -0.5173, -0.1925, -0.0974],\n",
       "        [-1.1461,  1.1154, -0.3025,  ...,  1.9328, -0.1925, -0.0974],\n",
       "        ...,\n",
       "        [ 0.6681, -0.8964, -0.3025,  ..., -0.5173, -0.1925, -0.0974],\n",
       "        [-1.3476,  1.1154, -0.3025,  ...,  1.9328, -0.1925, -0.0974],\n",
       "        [ 0.6681,  1.1154, -0.3025,  ...,  1.9328, -0.1925, -0.0974]])"
      ]
     },
     "execution_count": 488,
     "metadata": {},
     "output_type": "execute_result"
    }
   ],
   "source": [
    "X_train"
   ]
  },
  {
   "cell_type": "code",
   "execution_count": null,
   "id": "pending-possession",
   "metadata": {},
   "outputs": [],
   "source": []
  },
  {
   "cell_type": "code",
   "execution_count": null,
   "id": "confidential-majority",
   "metadata": {},
   "outputs": [],
   "source": []
  }
 ],
 "metadata": {
  "kernelspec": {
   "display_name": "Python 3",
   "language": "python",
   "name": "python3"
  },
  "language_info": {
   "codemirror_mode": {
    "name": "ipython",
    "version": 3
   },
   "file_extension": ".py",
   "mimetype": "text/x-python",
   "name": "python",
   "nbconvert_exporter": "python",
   "pygments_lexer": "ipython3",
   "version": "3.8.5"
  }
 },
 "nbformat": 4,
 "nbformat_minor": 5
}
