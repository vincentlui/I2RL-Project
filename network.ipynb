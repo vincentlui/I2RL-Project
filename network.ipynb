{
 "cells": [
  {
   "cell_type": "code",
   "execution_count": 1,
   "id": "aggressive-continuity",
   "metadata": {},
   "outputs": [],
   "source": [
    "import torch\n",
    "import numpy as np\n",
    "import pandas as pd\n",
    "import torch.nn as nn\n",
    "import torch.nn.functional as F\n",
    "from torch.utils.data import DataLoader, TensorDataset\n",
    "import torch.optim as optim"
   ]
  },
  {
   "cell_type": "code",
   "execution_count": 2,
   "id": "lovely-doctrine",
   "metadata": {},
   "outputs": [],
   "source": [
    "df = pd.read_excel (r'data.ods')"
   ]
  },
  {
   "cell_type": "code",
   "execution_count": 3,
   "id": "exposed-variable",
   "metadata": {},
   "outputs": [],
   "source": [
    "df = df[~df['Fallnummer'].isnull()]"
   ]
  },
  {
   "cell_type": "code",
   "execution_count": 4,
   "id": "verbal-philip",
   "metadata": {},
   "outputs": [],
   "source": [
    "class PatientClassificationNet(nn.Module):\n",
    "    def __init__(self, input_dim, hidden_size, activation=torch.relu):\n",
    "        super(PatientClassificationNet, self).__init__()\n",
    "        self.fc1 = nn.Linear(input_dim, hidden_size)\n",
    "        self.activation = activation\n",
    "        self.fc2 = nn.Linear(hidden_size, hidden_size)\n",
    "        self.fc3 = nn.Linear(hidden_size, 1)\n",
    "\n",
    "    def forward(self, x):\n",
    "        x = self.activation(self.fc1(x))\n",
    "        x = self.activation(self.fc2(x))\n",
    "        x = self.fc3(x)\n",
    "        x = torch.sigmoid(x)\n",
    "        return x"
   ]
  },
  {
   "cell_type": "code",
   "execution_count": 5,
   "id": "thorough-portland",
   "metadata": {},
   "outputs": [],
   "source": [
    "X = df.loc[:,['AGE','Admission type 2','No. of times sent to ICU','FA ab para']]\n",
    "X['FA ab para'] = X['FA ab para'].replace([1,5, 10, 14, 16, 21, 22], X['FA ab para'].max()+1)\n",
    "X = torch.Tensor(X.to_numpy())\n",
    "fa_val = X[:, 3].unique()\n",
    "tmp = X[:,3].unsqueeze(1).expand((-1,len(fa_val))) == fa_val\n",
    "X = torch.cat((X[:, :3], tmp.float()), dim=1)\n",
    "X[:,2] = (X[:,2] > 1 )\n",
    "X = (X - X.mean(0)) / X.std(0)\n",
    "\n",
    "Y = df.loc[:,['Tod']]\n",
    "Y = torch.Tensor(Y.to_numpy())\n",
    "\n",
    "num_feature = X.shape[-1]"
   ]
  },
  {
   "cell_type": "code",
   "execution_count": 6,
   "id": "broke-necessity",
   "metadata": {},
   "outputs": [],
   "source": [
    "num_train = int(len(X) * 0.8)\n",
    "shuffle_indices = np.arange(len(X))\n",
    "np.random.seed(6)\n",
    "np.random.shuffle(shuffle_indices)\n",
    "X_train = X[shuffle_indices][:num_train]\n",
    "y_train = Y[shuffle_indices][:num_train]\n",
    "X_test = X[shuffle_indices][num_train:]\n",
    "y_test = Y[shuffle_indices][num_train:]\n",
    "dataset_train = TensorDataset(X_train, y_train)\n",
    "dataset_test = TensorDataset(X_test, y_test)\n",
    "trainloader = DataLoader(dataset_train, batch_size=128, shuffle=True)\n",
    "testloader = DataLoader(dataset_test, batch_size=128, shuffle=True)"
   ]
  },
  {
   "cell_type": "code",
   "execution_count": 7,
   "id": "appointed-volunteer",
   "metadata": {},
   "outputs": [
    {
     "data": {
      "text/plain": [
       "tensor(320.)"
      ]
     },
     "execution_count": 7,
     "metadata": {},
     "output_type": "execute_result"
    }
   ],
   "source": [
    "y_train.sum()"
   ]
  },
  {
   "cell_type": "code",
   "execution_count": 8,
   "id": "pressing-print",
   "metadata": {},
   "outputs": [
    {
     "name": "stderr",
     "output_type": "stream",
     "text": [
      "<ipython-input-8-bcd13e50eba1>:1: UserWarning: This overload of nonzero is deprecated:\n",
      "\tnonzero()\n",
      "Consider using one of the following signatures instead:\n",
      "\tnonzero(*, bool as_tuple) (Triggered internally at  /tmp/pip-req-build-ojg3q6e4/torch/csrc/utils/python_arg_parser.cpp:882.)\n",
      "  threshold = y_train.nonzero().size(0)/num_train\n"
     ]
    }
   ],
   "source": [
    "threshold = y_train.nonzero().size(0)/num_train"
   ]
  },
  {
   "cell_type": "code",
   "execution_count": 10,
   "id": "spread-albania",
   "metadata": {},
   "outputs": [],
   "source": [
    "def train(net, trainloader, testloader, epoch=5):\n",
    "    criterion = nn.BCELoss()\n",
    "    optimizer = optim.SGD(net.parameters(), lr=0.003, momentum=0.9, weight_decay=1e-6)\n",
    "    for epoch in range(epoch):\n",
    "        total_loss = 0\n",
    "        net.train()\n",
    "        for i, data in enumerate(trainloader):\n",
    "            inputs, labels = data\n",
    "            optimizer.zero_grad()\n",
    "            outputs = net(inputs)\n",
    "            loss = criterion(outputs, labels)\n",
    "#             print(loss)\n",
    "            loss.backward()\n",
    "            optimizer.step()\n",
    "            total_loss += loss\n",
    "        \n",
    "        net.eval()\n",
    "        correct_true = 0\n",
    "        predicted_true = 0\n",
    "        target_true = 0\n",
    "        total = 0\n",
    "        for i, data in enumerate(testloader):\n",
    "            inputs, labels = data\n",
    "            outputs = net(inputs)\n",
    "            prediction = outputs > threshold\n",
    "            correct_true += ((prediction==1) * (labels==1)).sum().item()\n",
    "            target_true += labels.sum().item()\n",
    "            predicted_true += prediction.sum().item()\n",
    "            total += labels.size(0)\n",
    "        recall = correct_true / target_true\n",
    "        precision = correct_true / predicted_true\n",
    "        f1_score = 2 * precision * recall / (precision + recall)\n",
    "        print(f'epoch {epoch}: recall: {recall} precision: {precision} f1_score: {f1_score} loss:{total_loss}')\n",
    "    \n",
    "        "
   ]
  },
  {
   "cell_type": "code",
   "execution_count": 11,
   "id": "indirect-armstrong",
   "metadata": {},
   "outputs": [],
   "source": [
    "net = PatientClassificationNet(num_feature,256)"
   ]
  },
  {
   "cell_type": "code",
   "execution_count": 12,
   "id": "tropical-ethnic",
   "metadata": {},
   "outputs": [
    {
     "name": "stdout",
     "output_type": "stream",
     "text": [
      "epoch 0: recall: 0.9146341463414634 precision: 0.07197696737044146 f1_score: 0.13345195729537368 loss:18.78215217590332\n",
      "epoch 1: recall: 0.6463414634146342 precision: 0.06495098039215687 f1_score: 0.1180400890868597 loss:10.713094711303711\n",
      "epoch 2: recall: 0.6219512195121951 precision: 0.06623376623376623 f1_score: 0.11971830985915492 loss:9.920525550842285\n",
      "epoch 3: recall: 0.6341463414634146 precision: 0.06806282722513089 f1_score: 0.12293144208037825 loss:9.595834732055664\n",
      "epoch 4: recall: 0.6951219512195121 precision: 0.07519788918205805 f1_score: 0.1357142857142857 loss:9.194808959960938\n",
      "epoch 5: recall: 0.7317073170731707 precision: 0.08275862068965517 f1_score: 0.14869888475836432 loss:9.010043144226074\n",
      "epoch 6: recall: 0.7682926829268293 precision: 0.09143686502177069 f1_score: 0.16342412451361868 loss:8.914921760559082\n",
      "epoch 7: recall: 0.7439024390243902 precision: 0.09486780715396578 f1_score: 0.1682758620689655 loss:8.862672805786133\n",
      "epoch 8: recall: 0.7682926829268293 precision: 0.10128617363344052 f1_score: 0.17897727272727273 loss:8.525087356567383\n",
      "epoch 9: recall: 0.7804878048780488 precision: 0.12121212121212122 f1_score: 0.2098360655737705 loss:8.403861045837402\n",
      "epoch 10: recall: 0.7804878048780488 precision: 0.13445378151260504 f1_score: 0.22939068100358423 loss:8.250833511352539\n",
      "epoch 11: recall: 0.7560975609756098 precision: 0.14657210401891252 f1_score: 0.2455445544554455 loss:8.170945167541504\n",
      "epoch 12: recall: 0.7439024390243902 precision: 0.1425233644859813 f1_score: 0.2392156862745098 loss:8.16759967803955\n",
      "epoch 13: recall: 0.7317073170731707 precision: 0.14492753623188406 f1_score: 0.24193548387096775 loss:8.24957275390625\n",
      "epoch 14: recall: 0.7317073170731707 precision: 0.14492753623188406 f1_score: 0.24193548387096775 loss:8.167678833007812\n",
      "epoch 15: recall: 0.7073170731707317 precision: 0.1514360313315927 f1_score: 0.24946236559139787 loss:8.019769668579102\n",
      "epoch 16: recall: 0.6829268292682927 precision: 0.14736842105263157 f1_score: 0.2424242424242424 loss:8.063310623168945\n",
      "epoch 17: recall: 0.7073170731707317 precision: 0.14536340852130325 f1_score: 0.24116424116424112 loss:7.924224376678467\n",
      "epoch 18: recall: 0.6829268292682927 precision: 0.14775725593667546 f1_score: 0.24295010845986986 loss:7.980993747711182\n",
      "epoch 19: recall: 0.6829268292682927 precision: 0.14545454545454545 f1_score: 0.2398286937901499 loss:7.980633735656738\n",
      "epoch 20: recall: 0.6829268292682927 precision: 0.14893617021276595 f1_score: 0.2445414847161572 loss:8.178565979003906\n",
      "epoch 21: recall: 0.6951219512195121 precision: 0.14578005115089515 f1_score: 0.24101479915433408 loss:8.008049011230469\n",
      "epoch 22: recall: 0.6829268292682927 precision: 0.14545454545454545 f1_score: 0.2398286937901499 loss:7.92064905166626\n",
      "epoch 23: recall: 0.6585365853658537 precision: 0.14555256064690028 f1_score: 0.2384105960264901 loss:7.84237003326416\n",
      "epoch 24: recall: 0.6585365853658537 precision: 0.14713896457765668 f1_score: 0.24053452115812918 loss:7.89113712310791\n"
     ]
    }
   ],
   "source": [
    "train(net, trainloader, testloader, epoch=25)"
   ]
  },
  {
   "cell_type": "code",
   "execution_count": 13,
   "id": "frequent-syndicate",
   "metadata": {},
   "outputs": [],
   "source": [
    "correct_true = 0\n",
    "predicted_true = 0\n",
    "target_true = 0\n",
    "total = 0\n",
    "for i, data in enumerate(testloader):\n",
    "    inputs, labels = data\n",
    "    outputs = net(inputs)\n",
    "    prediction = outputs > threshold\n",
    "    correct_true += ((prediction==1) * (labels==1)).sum().item()\n",
    "    target_true += labels.sum().item()\n",
    "    predicted_true += prediction.sum().item()\n",
    "    total += labels.size(0)\n",
    "recall = correct_true / target_true\n",
    "precision = correct_true / predicted_true\n",
    "f1_score = 2 * precision * recall / (precision + recall)"
   ]
  },
  {
   "cell_type": "code",
   "execution_count": 14,
   "id": "three-recorder",
   "metadata": {},
   "outputs": [
    {
     "name": "stdout",
     "output_type": "stream",
     "text": [
      "0.6585365853658537 0.14713896457765668 0.24053452115812918\n"
     ]
    }
   ],
   "source": [
    "print(recall, precision, f1_score)"
   ]
  },
  {
   "cell_type": "code",
   "execution_count": 15,
   "id": "deluxe-doctrine",
   "metadata": {},
   "outputs": [
    {
     "name": "stdout",
     "output_type": "stream",
     "text": [
      "54 82.0 367\n"
     ]
    }
   ],
   "source": [
    "print(correct_true, target_true, predicted_true)"
   ]
  },
  {
   "cell_type": "code",
   "execution_count": 16,
   "id": "elder-hebrew",
   "metadata": {},
   "outputs": [],
   "source": [
    "outputs = net(X_train)\n",
    "v, _ = outputs.sort(0)\n",
    "num_class = 5\n",
    "class_boundary = torch.Tensor([v[int(num_train/num_class*i-1)] for i in range(1,num_class+1)])"
   ]
  },
  {
   "cell_type": "code",
   "execution_count": 17,
   "id": "fitting-sustainability",
   "metadata": {},
   "outputs": [],
   "source": [
    "out = net(X_train[0:2])\n",
    "comp = out < class_boundary\n",
    "# comp.nonzero()[0].item()\n",
    "comp = 0"
   ]
  },
  {
   "cell_type": "code",
   "execution_count": 18,
   "id": "utility-winning",
   "metadata": {},
   "outputs": [],
   "source": [
    "class PatientGroupNet(nn.Module):\n",
    "    def __init__(self, patient_class_net, class_boundary):\n",
    "        super(PatientGroupNet, self).__init__()\n",
    "        self.patient_class_net = patient_class_net\n",
    "        self.patient_class_net.eval()\n",
    "        self.class_boundary = class_boundary\n",
    "        self.num_class = self.class_boundary.size(0)\n",
    "\n",
    "    def forward(self, x):\n",
    "        x = self.patient_class_net(x)\n",
    "        comp = x < self.class_boundary\n",
    "        return self.num_class - comp.sum(-1) + 1"
   ]
  },
  {
   "cell_type": "code",
   "execution_count": 19,
   "id": "above-underground",
   "metadata": {},
   "outputs": [
    {
     "data": {
      "text/plain": [
       "[tensor(847), tensor(851), tensor(854), tensor(848), tensor(854)]"
      ]
     },
     "execution_count": 19,
     "metadata": {},
     "output_type": "execute_result"
    }
   ],
   "source": [
    "net2 = PatientGroupNet(net, class_boundary)\n",
    "out = net2(X_train)\n",
    "[torch.sum(out == i) for i in range(1, num_class+1)]"
   ]
  },
  {
   "cell_type": "code",
   "execution_count": 20,
   "id": "prescribed-threat",
   "metadata": {},
   "outputs": [
    {
     "data": {
      "text/plain": [
       "[tensor(214), tensor(212), tensor(206), tensor(211), tensor(221)]"
      ]
     },
     "execution_count": 20,
     "metadata": {},
     "output_type": "execute_result"
    }
   ],
   "source": [
    "net2 = PatientGroupNet(net, class_boundary)\n",
    "out = net2(X_test)\n",
    "[torch.sum(out == i) for i in range(1, num_class+1)]"
   ]
  },
  {
   "cell_type": "code",
   "execution_count": 21,
   "id": "corrected-baseball",
   "metadata": {},
   "outputs": [
    {
     "data": {
      "text/plain": [
       "[0.9809600481707305,\n",
       " 2.1084868558550465,\n",
       " 2.5422137054486913,\n",
       " 2.6860507816577064,\n",
       " 3.3307932816514727]"
      ]
     },
     "execution_count": 21,
     "metadata": {},
     "output_type": "execute_result"
    }
   ],
   "source": [
    "prediction = net2(X).numpy()\n",
    "df['class'] = prediction\n",
    "los_mean = [df[df['class']==i]['LOS (Days)'].mean() for i in range(1,num_class+1)]\n",
    "los_mean"
   ]
  },
  {
   "cell_type": "code",
   "execution_count": 24,
   "id": "functional-article",
   "metadata": {},
   "outputs": [],
   "source": [
    "PATH = 'model/patient_group_net.pth'#'D:\\working\\I2RL\\model\\test'\n",
    "torch.save(net2.state_dict(), PATH)"
   ]
  },
  {
   "cell_type": "code",
   "execution_count": 488,
   "id": "disciplinary-guitar",
   "metadata": {},
   "outputs": [
    {
     "data": {
      "text/plain": [
       "tensor([[-1.4988,  1.1154, -0.3025,  ...,  1.9328, -0.1925, -0.0974],\n",
       "        [-0.2893, -0.8964,  3.3051,  ..., -0.5173, -0.1925, -0.0974],\n",
       "        [-1.1461,  1.1154, -0.3025,  ...,  1.9328, -0.1925, -0.0974],\n",
       "        ...,\n",
       "        [ 0.6681, -0.8964, -0.3025,  ..., -0.5173, -0.1925, -0.0974],\n",
       "        [-1.3476,  1.1154, -0.3025,  ...,  1.9328, -0.1925, -0.0974],\n",
       "        [ 0.6681,  1.1154, -0.3025,  ...,  1.9328, -0.1925, -0.0974]])"
      ]
     },
     "execution_count": 488,
     "metadata": {},
     "output_type": "execute_result"
    }
   ],
   "source": [
    "X_train"
   ]
  },
  {
   "cell_type": "code",
   "execution_count": 25,
   "id": "pending-possession",
   "metadata": {},
   "outputs": [
    {
     "data": {
      "text/plain": [
       "tensor([0.0262, 0.0464, 0.0650, 0.1080, 0.4479])"
      ]
     },
     "execution_count": 25,
     "metadata": {},
     "output_type": "execute_result"
    }
   ],
   "source": [
    "class_boundary\n"
   ]
  },
  {
   "cell_type": "code",
   "execution_count": null,
   "id": "confidential-majority",
   "metadata": {},
   "outputs": [],
   "source": []
  }
 ],
 "metadata": {
  "kernelspec": {
   "display_name": "Python 3",
   "language": "python",
   "name": "python3"
  },
  "language_info": {
   "codemirror_mode": {
    "name": "ipython",
    "version": 3
   },
   "file_extension": ".py",
   "mimetype": "text/x-python",
   "name": "python",
   "nbconvert_exporter": "python",
   "pygments_lexer": "ipython3",
   "version": "3.8.8"
  }
 },
 "nbformat": 4,
 "nbformat_minor": 5
}
